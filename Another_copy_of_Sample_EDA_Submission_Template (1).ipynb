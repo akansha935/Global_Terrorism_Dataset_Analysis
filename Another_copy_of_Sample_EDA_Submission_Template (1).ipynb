{
  "nbformat": 4,
  "nbformat_minor": 0,
  "metadata": {
    "colab": {
      "provenance": [],
      "collapsed_sections": [
        "FJNUwmbgGyua",
        "w6K7xa23Elo4",
        "yQaldy8SH6Dl",
        "PH-0ReGfmX4f",
        "mDgbUHAGgjLW",
        "x71ZqKXriCWQ",
        "7hBIi_osiCS2",
        "JlHwYmJAmNHm",
        "35m5QtbWiB9F",
        "PoPl-ycgm1ru",
        "H0kj-8xxnORC",
        "PBTbrJXOngz2",
        "u3PMJOP6ngxN",
        "dauF4eBmngu3",
        "bKJF3rekwFvQ",
        "MSa1f5Uengrz",
        "GF8Ens_Soomf",
        "0wOQAZs5pc--",
        "K5QZ13OEpz2H",
        "lQ7QKXXCp7Bj",
        "448CDAPjqfQr",
        "KSlN3yHqYklG",
        "t6dVpIINYklI",
        "ijmpgYnKYklI",
        "-JiQyfWJYklI",
        "EM7whBJCYoAo",
        "fge-S5ZAYoAp",
        "85gYPyotYoAp",
        "RoGjAbkUYoAp",
        "4Of9eVA-YrdM",
        "iky9q4vBYrdO",
        "F6T5p64dYrdO",
        "y-Ehk30pYrdP",
        "bamQiAODYuh1",
        "QHF8YVU7Yuh3",
        "GwzvFGzlYuh3",
        "qYpmQ266Yuh3",
        "OH-pJp9IphqM",
        "bbFf2-_FphqN",
        "_ouA3fa0phqN",
        "Seke61FWphqN",
        "PIIx-8_IphqN",
        "t27r6nlMphqO",
        "r2jJGEOYphqO",
        "b0JNsNcRphqO",
        "BZR9WyysphqO",
        "jj7wYXLtphqO",
        "eZrbJ2SmphqO",
        "rFu4xreNphqO",
        "YJ55k-q6phqO",
        "gCFgpxoyphqP",
        "OVtJsKN_phqQ",
        "lssrdh5qphqQ",
        "U2RJ9gkRphqQ",
        "1M8mcRywphqQ",
        "tgIPom80phqQ",
        "JMzcOPDDphqR",
        "x-EpHcCOp1ci",
        "X_VqEhTip1ck",
        "8zGJKyg5p1ck",
        "PVzmfK_Ep1ck",
        "n3dbpmDWp1ck",
        "ylSl6qgtp1ck",
        "ZWILFDl5p1ck",
        "M7G43BXep1ck",
        "Ag9LCva-p1cl",
        "E6MkPsBcp1cl",
        "2cELzS2fp1cl",
        "3MPXvC8up1cl",
        "NC_X3p0fY2L0",
        "UV0SzAkaZNRQ",
        "YPEH6qLeZNRQ",
        "q29F0dvdveiT",
        "EXh0U9oCveiU",
        "22aHeOlLveiV",
        "JcMwzZxoAimU",
        "8G2x9gOozGDZ",
        "gCX9965dhzqZ",
        "gIfDvo9L0UH2"
      ]
    },
    "kernelspec": {
      "name": "python3",
      "display_name": "Python 3"
    },
    "language_info": {
      "name": "python"
    }
  },
  "cells": [
    {
      "cell_type": "markdown",
      "source": [
        "Exploratory Data Analysis on Global Terrorism Dataset.\n",
        "\n"
      ],
      "metadata": {
        "id": "vncDsAP0Gaoa"
      }
    },
    {
      "cell_type": "markdown",
      "source": [
        "##### **Project Type**    - EDA on Global Terrorism Dataset\n",
        "##### **Contribution**    - Individual\n",
        "##### **Team Member 1 -**Akansha kachhawe\n",
        "##### **Team Member 2 -**\n",
        "##### **Team Member 3 -**\n",
        "##### **Team Member 4 -**"
      ],
      "metadata": {
        "id": "beRrZCGUAJYm"
      }
    },
    {
      "cell_type": "markdown",
      "source": [
        "# **Project Summary -**"
      ],
      "metadata": {
        "id": "FJNUwmbgGyua"
      }
    },
    {
      "cell_type": "markdown",
      "source": [
        "Write the summary here within 500-600 words.\n",
        "\n",
        "Exploratory Data Analysis on the Global Terrorism Dataset (1970–2017)\n",
        "Introduction:\n",
        "Terrorism remains one of the most pressing global security challenges, affecting nations across political, cultural, and economic boundaries. To better understand the scale and nature of this issue, this project conducts an exploratory data analysis (EDA) on the Global Terrorism Database (GTD), one of the most comprehensive datasets of its kind. Maintained by the National Consortium for the Study of Terrorism and Responses to Terrorism (START), GTD includes detailed records of more than 180,000 terrorist incidents worldwide from 1970 to 2017.\n",
        "\n",
        "The goal of this EDA is to identify key patterns, trends, and insights related to the frequency, geography, tactics, and lethality of terrorist events. By visualizing and summarizing key metrics, this project provides a strong foundation for further statistical or predictive analysis.\n",
        "\n"
      ],
      "metadata": {
        "id": "F6v_1wHtG2nS"
      }
    },
    {
      "cell_type": "markdown",
      "source": [
        "# **GitHub Link -**"
      ],
      "metadata": {
        "id": "w6K7xa23Elo4"
      }
    },
    {
      "cell_type": "markdown",
      "source": [
        "[link text](https://)https://github.com/akansha935/Cleaned_Global_Terrorism_Data.csv.git"
      ],
      "metadata": {
        "id": "h1o69JH3Eqqn"
      }
    },
    {
      "cell_type": "markdown",
      "source": [
        "# **Problem Statement**\n"
      ],
      "metadata": {
        "id": "yQaldy8SH6Dl"
      }
    },
    {
      "cell_type": "markdown",
      "source": [
        "**Write Problem Statement Here.**\n",
        "Trend Identification:\n",
        "\n",
        "How has the frequency of terrorist incidents changed globally from 1970 to 2017, and what are the key years of escalation or decline?\n",
        "\n",
        "Geographic Distribution:\n",
        "\n",
        "Which countries and regions have experienced the highest number of terrorist attacks, and how has this changed over time?\n",
        "\n",
        "Attack Type Analysis:\n",
        "\n",
        "What are the most commonly used methods of attack in terrorist incidents, and which types tend to result in the highest number of fatalities?\n",
        "\n",
        "Lethality Assessment:\n",
        "\n",
        "What is the average and median number of fatalities per terrorist incident, and how do these figures vary by attack type or region?\n",
        "\n",
        "High-Risk Country Profiling:\n",
        "\n",
        "Which countries exhibit consistently high levels of terrorist activity, and what are the patterns in terms of attack frequency and severity?\n",
        "\n",
        "Temporal Patterns:\n",
        "\n",
        "Are there any seasonal or annual patterns in terrorist incidents that could inform predictive models or early warning systems?\n",
        "\n",
        "Data Quality Evaluation:\n",
        "\n",
        "To what extent does missing or incomplete data (e.g., unknown fatalities) affect the accuracy of terrorism trend analysis?\n",
        "\n",
        "Strategic Security Planning:\n",
        "\n",
        "How can insights from past terrorist activities be used to support security agencies and governments in developing targeted counter-terrorism strategies?"
      ],
      "metadata": {
        "id": "DpeJGUA3kjGy"
      }
    },
    {
      "cell_type": "markdown",
      "source": [
        "#### **Define Your Business Objective?**"
      ],
      "metadata": {
        "id": "PH-0ReGfmX4f"
      }
    },
    {
      "cell_type": "markdown",
      "source": [
        "Answer Here.\n",
        "The objective of this analysis is to leverage historical terrorism data to gain actionable insights that support strategic decision-making in areas related to public safety, policy-making, security planning, and risk management. By exploring global terrorism patterns from 1970 to 2017, this project aims to help governments, law enforcement agencies, defense organizations, and private-sector security firms:\n",
        "\n",
        "Understand historical trends in terrorist activity—such as frequency, location, and method of attacks.\n",
        "\n",
        "Identify high-risk regions and time periods based on historical patterns to prioritize resource allocation.\n",
        "\n",
        "Assess the impact of different attack types on human life and infrastructure for better contingency planning.\n",
        "\n",
        "Support the design of targeted interventions and counter-terrorism strategies based on empirical data.\n",
        "\n",
        "Develop early warning systems and forecasting tools through further predictive modeling.\n",
        "Terrorist incidents lead to significant human, economic, and political losses. Understanding where, when, and how attacks occur can help:\n",
        "\n",
        "Save lives through proactive security deployment.\n",
        "\n",
        "Reduce economic disruptions to critical infrastructure.\n",
        "\n",
        "Inform international and domestic security policies.\n",
        "\n",
        "Guide investments in surveillance, border security, and emergency response."
      ],
      "metadata": {
        "id": "PhDvGCAqmjP1"
      }
    },
    {
      "cell_type": "markdown",
      "source": [
        "# **General Guidelines** : -  "
      ],
      "metadata": {
        "id": "mDgbUHAGgjLW"
      }
    },
    {
      "cell_type": "markdown",
      "source": [
        "1.   Well-structured, formatted, and commented code is required.\n",
        "2.   Exception Handling, Production Grade Code & Deployment Ready Code will be a plus. Those students will be awarded some additional credits.\n",
        "     \n",
        "     The additional credits will have advantages over other students during Star Student selection.\n",
        "       \n",
        "             [ Note: - Deployment Ready Code is defined as, the whole .ipynb notebook should be executable in one go\n",
        "                       without a single error logged. ]\n",
        "\n",
        "3.   Each and every logic should have proper comments.\n",
        "4. You may add as many number of charts you want. Make Sure for each and every chart the following format should be answered.\n",
        "        \n",
        "\n",
        "```\n",
        "# Chart visualization code\n",
        "```\n",
        "            \n",
        "\n",
        "*   Why did you pick the specific chart?\n",
        "*   What is/are the insight(s) found from the chart?\n",
        "* Will the gained insights help creating a positive business impact?\n",
        "Are there any insights that lead to negative growth? Justify with specific reason.\n",
        "\n",
        "5. You have to create at least 20 logical & meaningful charts having important insights.\n",
        "\n",
        "\n",
        "[ Hints : - Do the Vizualization in  a structured way while following \"UBM\" Rule.\n",
        "\n",
        "U - Univariate Analysis,\n",
        "\n",
        "B - Bivariate Analysis (Numerical - Categorical, Numerical - Numerical, Categorical - Categorical)\n",
        "\n",
        "M - Multivariate Analysis\n",
        " ]\n",
        "\n",
        "\n",
        "\n"
      ],
      "metadata": {
        "id": "ZrxVaUj-hHfC"
      }
    },
    {
      "cell_type": "markdown",
      "source": [
        "# ***Let's Begin !***"
      ],
      "metadata": {
        "id": "O_i_v8NEhb9l"
      }
    },
    {
      "cell_type": "markdown",
      "source": [
        "## ***1. Know Your Data***"
      ],
      "metadata": {
        "id": "HhfV-JJviCcP"
      }
    },
    {
      "cell_type": "markdown",
      "source": [
        "### Import Libraries"
      ],
      "metadata": {
        "id": "Y3lxredqlCYt"
      }
    },
    {
      "cell_type": "code",
      "source": [
        "# Import Libraries\n",
        "import numpy as np\n",
        "import pandas as pd\n",
        "import matplotlib.pyplot as plt\n",
        "import seaborn as sns"
      ],
      "metadata": {
        "id": "M8Vqi-pPk-HR"
      },
      "execution_count": null,
      "outputs": []
    },
    {
      "cell_type": "markdown",
      "source": [
        "### Dataset Loading"
      ],
      "metadata": {
        "id": "3RnN4peoiCZX"
      }
    },
    {
      "cell_type": "code",
      "source": [
        "# Load your Dataset here.\n",
        "from google.colab import drive\n",
        "drive.mount('/content/drive')"
      ],
      "metadata": {
        "id": "AYXSoXAizzHQ",
        "colab": {
          "base_uri": "https://localhost:8080/"
        },
        "outputId": "9691d941-691c-4caa-de55-39a0babb75b3"
      },
      "execution_count": null,
      "outputs": [
        {
          "output_type": "stream",
          "name": "stdout",
          "text": [
            "Mounted at /content/drive\n"
          ]
        }
      ]
    },
    {
      "cell_type": "code",
      "source": [
        "import pandas as pd\n",
        "\n",
        "try:\n",
        "    df = pd.read_csv(\"/content/Global Terrorism Data (1).csv\", encoding='ISO-8859-1', low_memory=False)\n",
        "except FileNotFoundError:\n",
        "    print(\"File not found. Please check the filename.\")\n",
        "except Exception as e:\n",
        "    print(f\"Error loading file: {e}\")"
      ],
      "metadata": {
        "id": "JDUJz6n5Btg7"
      },
      "execution_count": 2,
      "outputs": []
    },
    {
      "cell_type": "code",
      "source": [
        "missing = df.isnull().sum().sort_values(ascending=False)\n",
        "print(missing.head(15))\n",
        "threshold = len(df) * 0.5\n",
        "df_cleaned = df.dropna(thresh=threshold, axis=1)\n",
        "df_cleaned['nkill'].fillna(0, inplace=True)\n",
        "df_cleaned['nwound'].fillna(0, inplace=True)\n",
        "for col in df_cleaned.select_dtypes(include='object').columns:\n",
        "    df_cleaned[col].fillna('Unknown', inplace=True)"
      ],
      "metadata": {
        "colab": {
          "base_uri": "https://localhost:8080/"
        },
        "id": "Q2Cz2tdZp7_A",
        "outputId": "2e1a843a-b5ca-421f-ffc7-2f16a3f2a263"
      },
      "execution_count": null,
      "outputs": [
        {
          "output_type": "stream",
          "name": "stdout",
          "text": [
            "gsubname3           181671\n",
            "weapsubtype4        181621\n",
            "weapsubtype4_txt    181621\n",
            "weaptype4_txt       181618\n",
            "weaptype4           181618\n",
            "claimmode3          181558\n",
            "claimmode3_txt      181558\n",
            "gsubname2           181531\n",
            "claim3              181373\n",
            "guncertain3         181371\n",
            "divert              181367\n",
            "gname3              181367\n",
            "attacktype3         181263\n",
            "attacktype3_txt     181263\n",
            "ransomnote          181179\n",
            "dtype: int64\n"
          ]
        },
        {
          "output_type": "stream",
          "name": "stderr",
          "text": [
            "/tmp/ipython-input-6-3598446457.py:5: FutureWarning: A value is trying to be set on a copy of a DataFrame or Series through chained assignment using an inplace method.\n",
            "The behavior will change in pandas 3.0. This inplace method will never work because the intermediate object on which we are setting values always behaves as a copy.\n",
            "\n",
            "For example, when doing 'df[col].method(value, inplace=True)', try using 'df.method({col: value}, inplace=True)' or df[col] = df[col].method(value) instead, to perform the operation inplace on the original object.\n",
            "\n",
            "\n",
            "  df_cleaned['nkill'].fillna(0, inplace=True)\n",
            "/tmp/ipython-input-6-3598446457.py:5: SettingWithCopyWarning: \n",
            "A value is trying to be set on a copy of a slice from a DataFrame\n",
            "\n",
            "See the caveats in the documentation: https://pandas.pydata.org/pandas-docs/stable/user_guide/indexing.html#returning-a-view-versus-a-copy\n",
            "  df_cleaned['nkill'].fillna(0, inplace=True)\n",
            "/tmp/ipython-input-6-3598446457.py:6: FutureWarning: A value is trying to be set on a copy of a DataFrame or Series through chained assignment using an inplace method.\n",
            "The behavior will change in pandas 3.0. This inplace method will never work because the intermediate object on which we are setting values always behaves as a copy.\n",
            "\n",
            "For example, when doing 'df[col].method(value, inplace=True)', try using 'df.method({col: value}, inplace=True)' or df[col] = df[col].method(value) instead, to perform the operation inplace on the original object.\n",
            "\n",
            "\n",
            "  df_cleaned['nwound'].fillna(0, inplace=True)\n",
            "/tmp/ipython-input-6-3598446457.py:6: SettingWithCopyWarning: \n",
            "A value is trying to be set on a copy of a slice from a DataFrame\n",
            "\n",
            "See the caveats in the documentation: https://pandas.pydata.org/pandas-docs/stable/user_guide/indexing.html#returning-a-view-versus-a-copy\n",
            "  df_cleaned['nwound'].fillna(0, inplace=True)\n",
            "/tmp/ipython-input-6-3598446457.py:8: FutureWarning: A value is trying to be set on a copy of a DataFrame or Series through chained assignment using an inplace method.\n",
            "The behavior will change in pandas 3.0. This inplace method will never work because the intermediate object on which we are setting values always behaves as a copy.\n",
            "\n",
            "For example, when doing 'df[col].method(value, inplace=True)', try using 'df.method({col: value}, inplace=True)' or df[col] = df[col].method(value) instead, to perform the operation inplace on the original object.\n",
            "\n",
            "\n",
            "  df_cleaned[col].fillna('Unknown', inplace=True)\n",
            "/tmp/ipython-input-6-3598446457.py:8: SettingWithCopyWarning: \n",
            "A value is trying to be set on a copy of a slice from a DataFrame\n",
            "\n",
            "See the caveats in the documentation: https://pandas.pydata.org/pandas-docs/stable/user_guide/indexing.html#returning-a-view-versus-a-copy\n",
            "  df_cleaned[col].fillna('Unknown', inplace=True)\n"
          ]
        }
      ]
    },
    {
      "cell_type": "code",
      "source": [
        "# Save the cleaned dataset\n",
        "df_cleaned.to_csv(\"Cleaned_Global_Terrorism_Data.csv\", index=False)\n",
        "print(\"\\nCleaned dataset saved to Cleaned_Global_Terrorism_Data.csv\")"
      ],
      "metadata": {
        "id": "83vzNXG8CB2N",
        "colab": {
          "base_uri": "https://localhost:8080/"
        },
        "outputId": "ef9d1f53-43a1-4b7b-94d8-60c639335877"
      },
      "execution_count": null,
      "outputs": [
        {
          "output_type": "stream",
          "name": "stdout",
          "text": [
            "\n",
            "Cleaned dataset saved to Cleaned_Global_Terrorism_Data.csv\n"
          ]
        }
      ]
    },
    {
      "cell_type": "code",
      "source": [
        "from google.colab import files\n",
        "uploaded = files.upload()"
      ],
      "metadata": {
        "id": "VwJwZPNa5sKb"
      },
      "execution_count": null,
      "outputs": []
    },
    {
      "cell_type": "markdown",
      "source": [
        "### Dataset First View"
      ],
      "metadata": {
        "id": "x71ZqKXriCWQ"
      }
    },
    {
      "cell_type": "code",
      "source": [
        "import pandas as pd\n",
        "df = pd.read_csv(\"Cleaned_Global_Terrorism_Data.csv\", encoding='ISO-8859-1', low_memory=False)\n",
        "print(df.head())"
      ],
      "metadata": {
        "id": "cNGY1WZJyoH2",
        "colab": {
          "base_uri": "https://localhost:8080/"
        },
        "outputId": "addc27a9-8efe-427d-ac46-720b786dfd4c"
      },
      "execution_count": null,
      "outputs": [
        {
          "output_type": "stream",
          "name": "stdout",
          "text": [
            "        eventid  iyear  imonth  iday  extended  country         country_txt  \\\n",
            "0  197000000001   1970       7     2         0       58  Dominican Republic   \n",
            "1  197000000002   1970       0     0         0      130              Mexico   \n",
            "2  197001000001   1970       1     0         0      160         Philippines   \n",
            "3  197001000002   1970       1     0         0       78              Greece   \n",
            "4  197001000003   1970       1     0         0      101               Japan   \n",
            "\n",
            "   region                   region_txt provstate  ... nwoundus  nwoundte  \\\n",
            "0       2  Central America & Caribbean   Unknown  ...      NaN       NaN   \n",
            "1       1                North America   Federal  ...      NaN       NaN   \n",
            "2       5               Southeast Asia    Tarlac  ...      NaN       NaN   \n",
            "3       8               Western Europe    Attica  ...      NaN       NaN   \n",
            "4       4                    East Asia   Fukouka  ...      NaN       NaN   \n",
            "\n",
            "   property  ishostkid   scite1 dbsource  INT_LOG  INT_IDEO  INT_MISC  INT_ANY  \n",
            "0         0        0.0  Unknown     PGIS        0         0         0        0  \n",
            "1         0        1.0  Unknown     PGIS        0         1         1        1  \n",
            "2         0        0.0  Unknown     PGIS       -9        -9         1        1  \n",
            "3         1        0.0  Unknown     PGIS       -9        -9         1        1  \n",
            "4         1        0.0  Unknown     PGIS       -9        -9         1        1  \n",
            "\n",
            "[5 rows x 58 columns]\n"
          ]
        }
      ]
    },
    {
      "cell_type": "code",
      "source": [
        "# Dataset First Look\n",
        "display(df.head())"
      ],
      "metadata": {
        "id": "LWNFOSvLl09H",
        "colab": {
          "base_uri": "https://localhost:8080/",
          "height": 342
        },
        "outputId": "8ae723dc-ef1a-4850-cbc8-5951de906ccd"
      },
      "execution_count": null,
      "outputs": [
        {
          "output_type": "display_data",
          "data": {
            "text/plain": [
              "        eventid  iyear  imonth  iday  extended  country         country_txt  \\\n",
              "0  197000000001   1970       7     2         0       58  Dominican Republic   \n",
              "1  197000000002   1970       0     0         0      130              Mexico   \n",
              "2  197001000001   1970       1     0         0      160         Philippines   \n",
              "3  197001000002   1970       1     0         0       78              Greece   \n",
              "4  197001000003   1970       1     0         0      101               Japan   \n",
              "\n",
              "   region                   region_txt provstate  ... nwoundus  nwoundte  \\\n",
              "0       2  Central America & Caribbean   Unknown  ...      NaN       NaN   \n",
              "1       1                North America   Federal  ...      NaN       NaN   \n",
              "2       5               Southeast Asia    Tarlac  ...      NaN       NaN   \n",
              "3       8               Western Europe    Attica  ...      NaN       NaN   \n",
              "4       4                    East Asia   Fukouka  ...      NaN       NaN   \n",
              "\n",
              "   property  ishostkid   scite1 dbsource  INT_LOG  INT_IDEO  INT_MISC  INT_ANY  \n",
              "0         0        0.0  Unknown     PGIS        0         0         0        0  \n",
              "1         0        1.0  Unknown     PGIS        0         1         1        1  \n",
              "2         0        0.0  Unknown     PGIS       -9        -9         1        1  \n",
              "3         1        0.0  Unknown     PGIS       -9        -9         1        1  \n",
              "4         1        0.0  Unknown     PGIS       -9        -9         1        1  \n",
              "\n",
              "[5 rows x 58 columns]"
            ],
            "text/html": [
              "\n",
              "  <div id=\"df-e6d5fb6d-027e-460d-96e5-6e210fadf94c\" class=\"colab-df-container\">\n",
              "    <div>\n",
              "<style scoped>\n",
              "    .dataframe tbody tr th:only-of-type {\n",
              "        vertical-align: middle;\n",
              "    }\n",
              "\n",
              "    .dataframe tbody tr th {\n",
              "        vertical-align: top;\n",
              "    }\n",
              "\n",
              "    .dataframe thead th {\n",
              "        text-align: right;\n",
              "    }\n",
              "</style>\n",
              "<table border=\"1\" class=\"dataframe\">\n",
              "  <thead>\n",
              "    <tr style=\"text-align: right;\">\n",
              "      <th></th>\n",
              "      <th>eventid</th>\n",
              "      <th>iyear</th>\n",
              "      <th>imonth</th>\n",
              "      <th>iday</th>\n",
              "      <th>extended</th>\n",
              "      <th>country</th>\n",
              "      <th>country_txt</th>\n",
              "      <th>region</th>\n",
              "      <th>region_txt</th>\n",
              "      <th>provstate</th>\n",
              "      <th>...</th>\n",
              "      <th>nwoundus</th>\n",
              "      <th>nwoundte</th>\n",
              "      <th>property</th>\n",
              "      <th>ishostkid</th>\n",
              "      <th>scite1</th>\n",
              "      <th>dbsource</th>\n",
              "      <th>INT_LOG</th>\n",
              "      <th>INT_IDEO</th>\n",
              "      <th>INT_MISC</th>\n",
              "      <th>INT_ANY</th>\n",
              "    </tr>\n",
              "  </thead>\n",
              "  <tbody>\n",
              "    <tr>\n",
              "      <th>0</th>\n",
              "      <td>197000000001</td>\n",
              "      <td>1970</td>\n",
              "      <td>7</td>\n",
              "      <td>2</td>\n",
              "      <td>0</td>\n",
              "      <td>58</td>\n",
              "      <td>Dominican Republic</td>\n",
              "      <td>2</td>\n",
              "      <td>Central America &amp; Caribbean</td>\n",
              "      <td>Unknown</td>\n",
              "      <td>...</td>\n",
              "      <td>NaN</td>\n",
              "      <td>NaN</td>\n",
              "      <td>0</td>\n",
              "      <td>0.0</td>\n",
              "      <td>Unknown</td>\n",
              "      <td>PGIS</td>\n",
              "      <td>0</td>\n",
              "      <td>0</td>\n",
              "      <td>0</td>\n",
              "      <td>0</td>\n",
              "    </tr>\n",
              "    <tr>\n",
              "      <th>1</th>\n",
              "      <td>197000000002</td>\n",
              "      <td>1970</td>\n",
              "      <td>0</td>\n",
              "      <td>0</td>\n",
              "      <td>0</td>\n",
              "      <td>130</td>\n",
              "      <td>Mexico</td>\n",
              "      <td>1</td>\n",
              "      <td>North America</td>\n",
              "      <td>Federal</td>\n",
              "      <td>...</td>\n",
              "      <td>NaN</td>\n",
              "      <td>NaN</td>\n",
              "      <td>0</td>\n",
              "      <td>1.0</td>\n",
              "      <td>Unknown</td>\n",
              "      <td>PGIS</td>\n",
              "      <td>0</td>\n",
              "      <td>1</td>\n",
              "      <td>1</td>\n",
              "      <td>1</td>\n",
              "    </tr>\n",
              "    <tr>\n",
              "      <th>2</th>\n",
              "      <td>197001000001</td>\n",
              "      <td>1970</td>\n",
              "      <td>1</td>\n",
              "      <td>0</td>\n",
              "      <td>0</td>\n",
              "      <td>160</td>\n",
              "      <td>Philippines</td>\n",
              "      <td>5</td>\n",
              "      <td>Southeast Asia</td>\n",
              "      <td>Tarlac</td>\n",
              "      <td>...</td>\n",
              "      <td>NaN</td>\n",
              "      <td>NaN</td>\n",
              "      <td>0</td>\n",
              "      <td>0.0</td>\n",
              "      <td>Unknown</td>\n",
              "      <td>PGIS</td>\n",
              "      <td>-9</td>\n",
              "      <td>-9</td>\n",
              "      <td>1</td>\n",
              "      <td>1</td>\n",
              "    </tr>\n",
              "    <tr>\n",
              "      <th>3</th>\n",
              "      <td>197001000002</td>\n",
              "      <td>1970</td>\n",
              "      <td>1</td>\n",
              "      <td>0</td>\n",
              "      <td>0</td>\n",
              "      <td>78</td>\n",
              "      <td>Greece</td>\n",
              "      <td>8</td>\n",
              "      <td>Western Europe</td>\n",
              "      <td>Attica</td>\n",
              "      <td>...</td>\n",
              "      <td>NaN</td>\n",
              "      <td>NaN</td>\n",
              "      <td>1</td>\n",
              "      <td>0.0</td>\n",
              "      <td>Unknown</td>\n",
              "      <td>PGIS</td>\n",
              "      <td>-9</td>\n",
              "      <td>-9</td>\n",
              "      <td>1</td>\n",
              "      <td>1</td>\n",
              "    </tr>\n",
              "    <tr>\n",
              "      <th>4</th>\n",
              "      <td>197001000003</td>\n",
              "      <td>1970</td>\n",
              "      <td>1</td>\n",
              "      <td>0</td>\n",
              "      <td>0</td>\n",
              "      <td>101</td>\n",
              "      <td>Japan</td>\n",
              "      <td>4</td>\n",
              "      <td>East Asia</td>\n",
              "      <td>Fukouka</td>\n",
              "      <td>...</td>\n",
              "      <td>NaN</td>\n",
              "      <td>NaN</td>\n",
              "      <td>1</td>\n",
              "      <td>0.0</td>\n",
              "      <td>Unknown</td>\n",
              "      <td>PGIS</td>\n",
              "      <td>-9</td>\n",
              "      <td>-9</td>\n",
              "      <td>1</td>\n",
              "      <td>1</td>\n",
              "    </tr>\n",
              "  </tbody>\n",
              "</table>\n",
              "<p>5 rows × 58 columns</p>\n",
              "</div>\n",
              "    <div class=\"colab-df-buttons\">\n",
              "\n",
              "  <div class=\"colab-df-container\">\n",
              "    <button class=\"colab-df-convert\" onclick=\"convertToInteractive('df-e6d5fb6d-027e-460d-96e5-6e210fadf94c')\"\n",
              "            title=\"Convert this dataframe to an interactive table.\"\n",
              "            style=\"display:none;\">\n",
              "\n",
              "  <svg xmlns=\"http://www.w3.org/2000/svg\" height=\"24px\" viewBox=\"0 -960 960 960\">\n",
              "    <path d=\"M120-120v-720h720v720H120Zm60-500h600v-160H180v160Zm220 220h160v-160H400v160Zm0 220h160v-160H400v160ZM180-400h160v-160H180v160Zm440 0h160v-160H620v160ZM180-180h160v-160H180v160Zm440 0h160v-160H620v160Z\"/>\n",
              "  </svg>\n",
              "    </button>\n",
              "\n",
              "  <style>\n",
              "    .colab-df-container {\n",
              "      display:flex;\n",
              "      gap: 12px;\n",
              "    }\n",
              "\n",
              "    .colab-df-convert {\n",
              "      background-color: #E8F0FE;\n",
              "      border: none;\n",
              "      border-radius: 50%;\n",
              "      cursor: pointer;\n",
              "      display: none;\n",
              "      fill: #1967D2;\n",
              "      height: 32px;\n",
              "      padding: 0 0 0 0;\n",
              "      width: 32px;\n",
              "    }\n",
              "\n",
              "    .colab-df-convert:hover {\n",
              "      background-color: #E2EBFA;\n",
              "      box-shadow: 0px 1px 2px rgba(60, 64, 67, 0.3), 0px 1px 3px 1px rgba(60, 64, 67, 0.15);\n",
              "      fill: #174EA6;\n",
              "    }\n",
              "\n",
              "    .colab-df-buttons div {\n",
              "      margin-bottom: 4px;\n",
              "    }\n",
              "\n",
              "    [theme=dark] .colab-df-convert {\n",
              "      background-color: #3B4455;\n",
              "      fill: #D2E3FC;\n",
              "    }\n",
              "\n",
              "    [theme=dark] .colab-df-convert:hover {\n",
              "      background-color: #434B5C;\n",
              "      box-shadow: 0px 1px 3px 1px rgba(0, 0, 0, 0.15);\n",
              "      filter: drop-shadow(0px 1px 2px rgba(0, 0, 0, 0.3));\n",
              "      fill: #FFFFFF;\n",
              "    }\n",
              "  </style>\n",
              "\n",
              "    <script>\n",
              "      const buttonEl =\n",
              "        document.querySelector('#df-e6d5fb6d-027e-460d-96e5-6e210fadf94c button.colab-df-convert');\n",
              "      buttonEl.style.display =\n",
              "        google.colab.kernel.accessAllowed ? 'block' : 'none';\n",
              "\n",
              "      async function convertToInteractive(key) {\n",
              "        const element = document.querySelector('#df-e6d5fb6d-027e-460d-96e5-6e210fadf94c');\n",
              "        const dataTable =\n",
              "          await google.colab.kernel.invokeFunction('convertToInteractive',\n",
              "                                                    [key], {});\n",
              "        if (!dataTable) return;\n",
              "\n",
              "        const docLinkHtml = 'Like what you see? Visit the ' +\n",
              "          '<a target=\"_blank\" href=https://colab.research.google.com/notebooks/data_table.ipynb>data table notebook</a>'\n",
              "          + ' to learn more about interactive tables.';\n",
              "        element.innerHTML = '';\n",
              "        dataTable['output_type'] = 'display_data';\n",
              "        await google.colab.output.renderOutput(dataTable, element);\n",
              "        const docLink = document.createElement('div');\n",
              "        docLink.innerHTML = docLinkHtml;\n",
              "        element.appendChild(docLink);\n",
              "      }\n",
              "    </script>\n",
              "  </div>\n",
              "\n",
              "\n",
              "    <div id=\"df-83636b84-7f4f-41dc-ba8d-9d0054049715\">\n",
              "      <button class=\"colab-df-quickchart\" onclick=\"quickchart('df-83636b84-7f4f-41dc-ba8d-9d0054049715')\"\n",
              "                title=\"Suggest charts\"\n",
              "                style=\"display:none;\">\n",
              "\n",
              "<svg xmlns=\"http://www.w3.org/2000/svg\" height=\"24px\"viewBox=\"0 0 24 24\"\n",
              "     width=\"24px\">\n",
              "    <g>\n",
              "        <path d=\"M19 3H5c-1.1 0-2 .9-2 2v14c0 1.1.9 2 2 2h14c1.1 0 2-.9 2-2V5c0-1.1-.9-2-2-2zM9 17H7v-7h2v7zm4 0h-2V7h2v10zm4 0h-2v-4h2v4z\"/>\n",
              "    </g>\n",
              "</svg>\n",
              "      </button>\n",
              "\n",
              "<style>\n",
              "  .colab-df-quickchart {\n",
              "      --bg-color: #E8F0FE;\n",
              "      --fill-color: #1967D2;\n",
              "      --hover-bg-color: #E2EBFA;\n",
              "      --hover-fill-color: #174EA6;\n",
              "      --disabled-fill-color: #AAA;\n",
              "      --disabled-bg-color: #DDD;\n",
              "  }\n",
              "\n",
              "  [theme=dark] .colab-df-quickchart {\n",
              "      --bg-color: #3B4455;\n",
              "      --fill-color: #D2E3FC;\n",
              "      --hover-bg-color: #434B5C;\n",
              "      --hover-fill-color: #FFFFFF;\n",
              "      --disabled-bg-color: #3B4455;\n",
              "      --disabled-fill-color: #666;\n",
              "  }\n",
              "\n",
              "  .colab-df-quickchart {\n",
              "    background-color: var(--bg-color);\n",
              "    border: none;\n",
              "    border-radius: 50%;\n",
              "    cursor: pointer;\n",
              "    display: none;\n",
              "    fill: var(--fill-color);\n",
              "    height: 32px;\n",
              "    padding: 0;\n",
              "    width: 32px;\n",
              "  }\n",
              "\n",
              "  .colab-df-quickchart:hover {\n",
              "    background-color: var(--hover-bg-color);\n",
              "    box-shadow: 0 1px 2px rgba(60, 64, 67, 0.3), 0 1px 3px 1px rgba(60, 64, 67, 0.15);\n",
              "    fill: var(--button-hover-fill-color);\n",
              "  }\n",
              "\n",
              "  .colab-df-quickchart-complete:disabled,\n",
              "  .colab-df-quickchart-complete:disabled:hover {\n",
              "    background-color: var(--disabled-bg-color);\n",
              "    fill: var(--disabled-fill-color);\n",
              "    box-shadow: none;\n",
              "  }\n",
              "\n",
              "  .colab-df-spinner {\n",
              "    border: 2px solid var(--fill-color);\n",
              "    border-color: transparent;\n",
              "    border-bottom-color: var(--fill-color);\n",
              "    animation:\n",
              "      spin 1s steps(1) infinite;\n",
              "  }\n",
              "\n",
              "  @keyframes spin {\n",
              "    0% {\n",
              "      border-color: transparent;\n",
              "      border-bottom-color: var(--fill-color);\n",
              "      border-left-color: var(--fill-color);\n",
              "    }\n",
              "    20% {\n",
              "      border-color: transparent;\n",
              "      border-left-color: var(--fill-color);\n",
              "      border-top-color: var(--fill-color);\n",
              "    }\n",
              "    30% {\n",
              "      border-color: transparent;\n",
              "      border-left-color: var(--fill-color);\n",
              "      border-top-color: var(--fill-color);\n",
              "      border-right-color: var(--fill-color);\n",
              "    }\n",
              "    40% {\n",
              "      border-color: transparent;\n",
              "      border-right-color: var(--fill-color);\n",
              "      border-top-color: var(--fill-color);\n",
              "    }\n",
              "    60% {\n",
              "      border-color: transparent;\n",
              "      border-right-color: var(--fill-color);\n",
              "    }\n",
              "    80% {\n",
              "      border-color: transparent;\n",
              "      border-right-color: var(--fill-color);\n",
              "      border-bottom-color: var(--fill-color);\n",
              "    }\n",
              "    90% {\n",
              "      border-color: transparent;\n",
              "      border-bottom-color: var(--fill-color);\n",
              "    }\n",
              "  }\n",
              "</style>\n",
              "\n",
              "      <script>\n",
              "        async function quickchart(key) {\n",
              "          const quickchartButtonEl =\n",
              "            document.querySelector('#' + key + ' button');\n",
              "          quickchartButtonEl.disabled = true;  // To prevent multiple clicks.\n",
              "          quickchartButtonEl.classList.add('colab-df-spinner');\n",
              "          try {\n",
              "            const charts = await google.colab.kernel.invokeFunction(\n",
              "                'suggestCharts', [key], {});\n",
              "          } catch (error) {\n",
              "            console.error('Error during call to suggestCharts:', error);\n",
              "          }\n",
              "          quickchartButtonEl.classList.remove('colab-df-spinner');\n",
              "          quickchartButtonEl.classList.add('colab-df-quickchart-complete');\n",
              "        }\n",
              "        (() => {\n",
              "          let quickchartButtonEl =\n",
              "            document.querySelector('#df-83636b84-7f4f-41dc-ba8d-9d0054049715 button');\n",
              "          quickchartButtonEl.style.display =\n",
              "            google.colab.kernel.accessAllowed ? 'block' : 'none';\n",
              "        })();\n",
              "      </script>\n",
              "    </div>\n",
              "\n",
              "    </div>\n",
              "  </div>\n"
            ],
            "application/vnd.google.colaboratory.intrinsic+json": {
              "type": "dataframe"
            }
          },
          "metadata": {}
        }
      ]
    },
    {
      "cell_type": "markdown",
      "source": [
        "### Dataset Rows & Columns count"
      ],
      "metadata": {
        "id": "7hBIi_osiCS2"
      }
    },
    {
      "cell_type": "code",
      "source": [
        "# Dataset Rows & Columns count\n",
        "num_rows = df.shape[0]\n",
        "num_columns = df.shape[1]\n",
        "print(f\"Number of rows: {num_rows}\")\n",
        "print(f\"Number of columns: {num_columns}\")"
      ],
      "metadata": {
        "id": "Kllu7SJgmLij",
        "colab": {
          "base_uri": "https://localhost:8080/"
        },
        "outputId": "053054ef-0cb4-48e5-e0ad-540d0d7a7e4c"
      },
      "execution_count": null,
      "outputs": [
        {
          "output_type": "stream",
          "name": "stdout",
          "text": [
            "Number of rows: 181691\n",
            "Number of columns: 58\n"
          ]
        }
      ]
    },
    {
      "cell_type": "markdown",
      "source": [
        "### Dataset Information"
      ],
      "metadata": {
        "id": "JlHwYmJAmNHm"
      }
    },
    {
      "cell_type": "code",
      "source": [
        "# Dataset Info\n",
        "df.info()"
      ],
      "metadata": {
        "id": "e9hRXRi6meOf",
        "colab": {
          "base_uri": "https://localhost:8080/"
        },
        "outputId": "8c430bde-4679-46c3-b58e-c8302763f464"
      },
      "execution_count": null,
      "outputs": [
        {
          "output_type": "stream",
          "name": "stdout",
          "text": [
            "<class 'pandas.core.frame.DataFrame'>\n",
            "RangeIndex: 181691 entries, 0 to 181690\n",
            "Data columns (total 58 columns):\n",
            " #   Column            Non-Null Count   Dtype  \n",
            "---  ------            --------------   -----  \n",
            " 0   eventid           181691 non-null  int64  \n",
            " 1   iyear             181691 non-null  int64  \n",
            " 2   imonth            181691 non-null  int64  \n",
            " 3   iday              181691 non-null  int64  \n",
            " 4   extended          181691 non-null  int64  \n",
            " 5   country           181691 non-null  int64  \n",
            " 6   country_txt       181691 non-null  object \n",
            " 7   region            181691 non-null  int64  \n",
            " 8   region_txt        181691 non-null  object \n",
            " 9   provstate         181691 non-null  object \n",
            " 10  city              181691 non-null  object \n",
            " 11  latitude          177135 non-null  float64\n",
            " 12  longitude         177134 non-null  float64\n",
            " 13  specificity       181685 non-null  float64\n",
            " 14  vicinity          181691 non-null  int64  \n",
            " 15  summary           181691 non-null  object \n",
            " 16  crit1             181691 non-null  int64  \n",
            " 17  crit2             181691 non-null  int64  \n",
            " 18  crit3             181691 non-null  int64  \n",
            " 19  doubtterr         181690 non-null  float64\n",
            " 20  multiple          181690 non-null  float64\n",
            " 21  success           181691 non-null  int64  \n",
            " 22  suicide           181691 non-null  int64  \n",
            " 23  attacktype1       181691 non-null  int64  \n",
            " 24  attacktype1_txt   181691 non-null  object \n",
            " 25  targtype1         181691 non-null  int64  \n",
            " 26  targtype1_txt     181691 non-null  object \n",
            " 27  targsubtype1      171318 non-null  float64\n",
            " 28  targsubtype1_txt  181691 non-null  object \n",
            " 29  corp1             181691 non-null  object \n",
            " 30  target1           181691 non-null  object \n",
            " 31  natlty1           180132 non-null  float64\n",
            " 32  natlty1_txt       181691 non-null  object \n",
            " 33  gname             181691 non-null  object \n",
            " 34  guncertain1       181311 non-null  float64\n",
            " 35  individual        181691 non-null  int64  \n",
            " 36  nperps            110576 non-null  float64\n",
            " 37  nperpcap          112202 non-null  float64\n",
            " 38  claimed           115571 non-null  float64\n",
            " 39  weaptype1         181691 non-null  int64  \n",
            " 40  weaptype1_txt     181691 non-null  object \n",
            " 41  weapsubtype1      160923 non-null  float64\n",
            " 42  weapsubtype1_txt  181691 non-null  object \n",
            " 43  weapdetail        181691 non-null  object \n",
            " 44  nkill             181691 non-null  float64\n",
            " 45  nkillus           117245 non-null  float64\n",
            " 46  nkillter          114733 non-null  float64\n",
            " 47  nwound            181691 non-null  float64\n",
            " 48  nwoundus          116989 non-null  float64\n",
            " 49  nwoundte          112548 non-null  float64\n",
            " 50  property          181691 non-null  int64  \n",
            " 51  ishostkid         181513 non-null  float64\n",
            " 52  scite1            181691 non-null  object \n",
            " 53  dbsource          181691 non-null  object \n",
            " 54  INT_LOG           181691 non-null  int64  \n",
            " 55  INT_IDEO          181691 non-null  int64  \n",
            " 56  INT_MISC          181691 non-null  int64  \n",
            " 57  INT_ANY           181691 non-null  int64  \n",
            "dtypes: float64(19), int64(22), object(17)\n",
            "memory usage: 80.4+ MB\n"
          ]
        }
      ]
    },
    {
      "cell_type": "markdown",
      "source": [
        "#### Duplicate Values"
      ],
      "metadata": {
        "id": "35m5QtbWiB9F"
      }
    },
    {
      "cell_type": "code",
      "source": [
        "# Dataset Duplicate Value Count\n",
        "duplicate_count = df.duplicated().sum()\n",
        "print(f\"Number of duplicate rows: {duplicate_count}\")"
      ],
      "metadata": {
        "id": "1sLdpKYkmox0",
        "colab": {
          "base_uri": "https://localhost:8080/"
        },
        "outputId": "ceafb0e6-e052-48cf-ce4f-f83ecb56bacc"
      },
      "execution_count": null,
      "outputs": [
        {
          "output_type": "stream",
          "name": "stdout",
          "text": [
            "Number of duplicate rows: 0\n"
          ]
        }
      ]
    },
    {
      "cell_type": "markdown",
      "source": [
        "#### Missing Values/Null Values"
      ],
      "metadata": {
        "id": "PoPl-ycgm1ru"
      }
    },
    {
      "cell_type": "code",
      "source": [
        "# Missing Values/Null Values Count\n",
        "missing_values = df.isnull().sum()\n",
        "print(missing_values)"
      ],
      "metadata": {
        "id": "GgHWkxvamxVg",
        "colab": {
          "base_uri": "https://localhost:8080/"
        },
        "outputId": "1593e699-8bb5-4740-9864-bdf5a3a99920"
      },
      "execution_count": null,
      "outputs": [
        {
          "output_type": "stream",
          "name": "stdout",
          "text": [
            "eventid                 0\n",
            "iyear                   0\n",
            "imonth                  0\n",
            "iday                    0\n",
            "extended                0\n",
            "country                 0\n",
            "country_txt             0\n",
            "region                  0\n",
            "region_txt              0\n",
            "provstate               0\n",
            "city                    0\n",
            "latitude             4556\n",
            "longitude            4557\n",
            "specificity             6\n",
            "vicinity                0\n",
            "summary                 0\n",
            "crit1                   0\n",
            "crit2                   0\n",
            "crit3                   0\n",
            "doubtterr               1\n",
            "multiple                1\n",
            "success                 0\n",
            "suicide                 0\n",
            "attacktype1             0\n",
            "attacktype1_txt         0\n",
            "targtype1               0\n",
            "targtype1_txt           0\n",
            "targsubtype1        10373\n",
            "targsubtype1_txt        0\n",
            "corp1                   0\n",
            "target1                 0\n",
            "natlty1              1559\n",
            "natlty1_txt             0\n",
            "gname                   0\n",
            "guncertain1           380\n",
            "individual              0\n",
            "nperps              71115\n",
            "nperpcap            69489\n",
            "claimed             66120\n",
            "weaptype1               0\n",
            "weaptype1_txt           0\n",
            "weapsubtype1        20768\n",
            "weapsubtype1_txt        0\n",
            "weapdetail              0\n",
            "nkill                   0\n",
            "nkillus             64446\n",
            "nkillter            66958\n",
            "nwound                  0\n",
            "nwoundus            64702\n",
            "nwoundte            69143\n",
            "property                0\n",
            "ishostkid             178\n",
            "scite1                  0\n",
            "dbsource                0\n",
            "INT_LOG                 0\n",
            "INT_IDEO                0\n",
            "INT_MISC                0\n",
            "INT_ANY                 0\n",
            "dtype: int64\n"
          ]
        }
      ]
    },
    {
      "cell_type": "code",
      "source": [
        "# Visualizing the missing values\n",
        "import matplotlib.pyplot as plt\n",
        "import seaborn as sns\n",
        "sns.set_theme(style=\"whitegrid\")\n",
        "plt.figure(figsize=(5, 3))\n",
        "sns.heatmap(df.isnull(), cbar=False, cmap='viridis')\n",
        "plt.title('Missing Values Heatmap')\n",
        "plt.show()"
      ],
      "metadata": {
        "id": "3q5wnI3om9sJ",
        "colab": {
          "base_uri": "https://localhost:8080/",
          "height": 444
        },
        "outputId": "0f7d0212-248b-4728-d8cb-63342ebda78a"
      },
      "execution_count": null,
      "outputs": [
        {
          "output_type": "display_data",
          "data": {
            "text/plain": [
              "<Figure size 500x300 with 1 Axes>"
            ],
            "image/png": "[encoded data removed]"
          },
          "metadata": {}
        }
      ]
    },
    {
      "cell_type": "markdown",
      "source": [
        "### What did you know about your dataset?"
      ],
      "metadata": {
        "id": "H0kj-8xxnORC"
      }
    },
    {
      "cell_type": "markdown",
      "source": [
        "Answer Here\n",
        "\n",
        "The Global Terrorism Dataset (GTD) is a comprehensive, open-source database that documents terrorist incidents around the world. It contains detailed information on over 180,000 attacks dating back to 1970, making it one of the most widely used terrorism datasets for academic and policy research.\n",
        "Time Period: Primarily from 1970 to recent years (some versions may end at 2017 or 2019).\n",
        "\n",
        "Geographic Coverage: Worldwide — includes incidents from every region and country.\n",
        "\n",
        "Events Tracked: Includes bombings, armed assaults, assassinations, kidnappings, and other forms of terrorism.Missing values in critical fields like motive, nkill, nwound.\n",
        "\n",
        "\n"
      ],
      "metadata": {
        "id": "gfoNAAC-nUe_"
      }
    },
    {
      "cell_type": "markdown",
      "source": [
        "## ***2. Understanding Your Variables***"
      ],
      "metadata": {
        "id": "nA9Y7ga8ng1Z"
      }
    },
    {
      "cell_type": "code",
      "source": [
        "# Dataset Columns\n",
        "print(df.columns)"
      ],
      "metadata": {
        "id": "j7xfkqrt5Ag5",
        "colab": {
          "base_uri": "https://localhost:8080/"
        },
        "outputId": "cb547c7b-3db3-45ba-defd-e5e01660be75"
      },
      "execution_count": null,
      "outputs": [
        {
          "output_type": "stream",
          "name": "stdout",
          "text": [
            "Index(['eventid', 'iyear', 'imonth', 'iday', 'extended', 'country',\n",
            "       'country_txt', 'region', 'region_txt', 'provstate', 'city', 'latitude',\n",
            "       'longitude', 'specificity', 'vicinity', 'summary', 'crit1', 'crit2',\n",
            "       'crit3', 'doubtterr', 'multiple', 'success', 'suicide', 'attacktype1',\n",
            "       'attacktype1_txt', 'targtype1', 'targtype1_txt', 'targsubtype1',\n",
            "       'targsubtype1_txt', 'corp1', 'target1', 'natlty1', 'natlty1_txt',\n",
            "       'gname', 'guncertain1', 'individual', 'nperps', 'nperpcap', 'claimed',\n",
            "       'weaptype1', 'weaptype1_txt', 'weapsubtype1', 'weapsubtype1_txt',\n",
            "       'weapdetail', 'nkill', 'nkillus', 'nkillter', 'nwound', 'nwoundus',\n",
            "       'nwoundte', 'property', 'ishostkid', 'scite1', 'dbsource', 'INT_LOG',\n",
            "       'INT_IDEO', 'INT_MISC', 'INT_ANY'],\n",
            "      dtype='object')\n"
          ]
        }
      ]
    },
    {
      "cell_type": "code",
      "source": [
        "# Dataset Describe\n",
        "print(df.describe())"
      ],
      "metadata": {
        "id": "DnOaZdaE5Q5t",
        "colab": {
          "base_uri": "https://localhost:8080/"
        },
        "outputId": "5fa9b81c-3896-46fc-9bda-6504dfff06df"
      },
      "execution_count": null,
      "outputs": [
        {
          "output_type": "stream",
          "name": "stdout",
          "text": [
            "            eventid          iyear         imonth           iday  \\\n",
            "count  1.816910e+05  181691.000000  181691.000000  181691.000000   \n",
            "mean   2.002705e+11    2002.638997       6.467277      15.505644   \n",
            "std    1.325957e+09      13.259430       3.388303       8.814045   \n",
            "min    1.970000e+11    1970.000000       0.000000       0.000000   \n",
            "25%    1.991021e+11    1991.000000       4.000000       8.000000   \n",
            "50%    2.009022e+11    2009.000000       6.000000      15.000000   \n",
            "75%    2.014081e+11    2014.000000       9.000000      23.000000   \n",
            "max    2.017123e+11    2017.000000      12.000000      31.000000   \n",
            "\n",
            "            extended        country         region       latitude  \\\n",
            "count  181691.000000  181691.000000  181691.000000  177135.000000   \n",
            "mean        0.045346     131.968501       7.160938      23.498343   \n",
            "std         0.208063     112.414535       2.933408      18.569242   \n",
            "min         0.000000       4.000000       1.000000     -53.154613   \n",
            "25%         0.000000      78.000000       5.000000      11.510046   \n",
            "50%         0.000000      98.000000       6.000000      31.467463   \n",
            "75%         0.000000     160.000000      10.000000      34.685087   \n",
            "max         1.000000    1004.000000      12.000000      74.633553   \n",
            "\n",
            "          longitude    specificity  ...       nkillter         nwound  \\\n",
            "count  1.771340e+05  181685.000000  ...  114733.000000  181691.000000   \n",
            "mean  -4.586957e+02       1.451452  ...       0.508058       2.883296   \n",
            "std    2.047790e+05       0.995430  ...       4.199937      34.309747   \n",
            "min   -8.618590e+07       1.000000  ...       0.000000       0.000000   \n",
            "25%    4.545640e+00       1.000000  ...       0.000000       0.000000   \n",
            "50%    4.324651e+01       1.000000  ...       0.000000       0.000000   \n",
            "75%    6.871033e+01       1.000000  ...       0.000000       2.000000   \n",
            "max    1.793667e+02       5.000000  ...     500.000000    8191.000000   \n",
            "\n",
            "            nwoundus       nwoundte       property      ishostkid  \\\n",
            "count  116989.000000  112548.000000  181691.000000  181513.000000   \n",
            "mean        0.038944       0.107163      -0.544556       0.059054   \n",
            "std         3.057361       1.488881       3.122889       0.461244   \n",
            "min         0.000000       0.000000      -9.000000      -9.000000   \n",
            "25%         0.000000       0.000000       0.000000       0.000000   \n",
            "50%         0.000000       0.000000       1.000000       0.000000   \n",
            "75%         0.000000       0.000000       1.000000       0.000000   \n",
            "max       751.000000     200.000000       1.000000       1.000000   \n",
            "\n",
            "             INT_LOG       INT_IDEO       INT_MISC        INT_ANY  \n",
            "count  181691.000000  181691.000000  181691.000000  181691.000000  \n",
            "mean       -4.543731      -4.464398       0.090010      -3.945952  \n",
            "std         4.543547       4.637152       0.568457       4.691325  \n",
            "min        -9.000000      -9.000000      -9.000000      -9.000000  \n",
            "25%        -9.000000      -9.000000       0.000000      -9.000000  \n",
            "50%        -9.000000      -9.000000       0.000000       0.000000  \n",
            "75%         0.000000       0.000000       0.000000       0.000000  \n",
            "max         1.000000       1.000000       1.000000       1.000000  \n",
            "\n",
            "[8 rows x 41 columns]\n"
          ]
        }
      ]
    },
    {
      "cell_type": "markdown",
      "source": [
        "### Variables Description"
      ],
      "metadata": {
        "id": "PBTbrJXOngz2"
      }
    },
    {
      "cell_type": "markdown",
      "source": [
        "Answer Here\n",
        "\n",
        "The Global Terrorism Dataset contains a wide array of variables designed to comprehensively capture the details of terrorist incidents worldwide. Each record in the dataset is uniquely identified by an eventid. The date of the incident is broken down into iyear (year), imonth (month), and iday (day). If the exact date is not known, an approxdate field provides an estimated date. The extended variable indicates whether the incident lasted more than 24 hours.\n",
        "\n",
        "Geographic details include country_txt (country name), region_txt (region of the world), provstate (province or state), and city (city name). Precise location information is provided by latitude and longitude. A brief narrative of the incident is captured in the summary field.\n",
        "\n",
        "To determine whether an event qualifies as terrorism, three criteria are used: crit1, crit2, and crit3, each indicating whether the event meets specific definitional elements of terrorism. The doubtterr variable flags events that may not clearly be terrorism. The multiple field identifies if the incident was part of a coordinated attack, while success and suicide indicate whether the attack was successful and/or a suicide attack, respectively.\n",
        "\n",
        "The nature of the attack is described in attacktype1_txt, and the intended victim or target is described in target1. The nationality of the target is recorded in natlty1_txt. The responsible group or actor is recorded under gname, and if known, the reason or motive for the attack is provided in motive.\n",
        "\n",
        "Weapon-related details include weaptype1_txt, which identifies the primary weapon used, such as firearms, explosives, or chemical agents. Casualties are reported using nkill (total number killed), nkillus (U.S. nationals killed), nwound (total wounded), and nwoundus (U.S. nationals wounded).\n",
        "\n",
        "The dataset also accounts for the economic and property impact of attacks. The property field indicates if property damage occurred, and propextent_txt describes the extent of damage. The estimated monetary value of the damage is recorded in propvalue.\n",
        "\n",
        "Information on kidnappings and hostages is captured by hostkid, with nhostkid giving the number of hostages. If ransom was demanded, ransom indicates this, and ransomamt specifies the amount requested. Lastly, source references for each incident are provided in scite1, scite2, and scite3, which document the news reports or official statements from which the data was derived.\n",
        "\n"
      ],
      "metadata": {
        "id": "aJV4KIxSnxay"
      }
    },
    {
      "cell_type": "markdown",
      "source": [
        "### Check Unique Values for each variable."
      ],
      "metadata": {
        "id": "u3PMJOP6ngxN"
      }
    },
    {
      "cell_type": "code",
      "source": [
        "# Check Unique Values for each variable.\n",
        "unique_values = df.nunique()\n",
        "print(unique_values)"
      ],
      "metadata": {
        "id": "zms12Yq5n-jE",
        "colab": {
          "base_uri": "https://localhost:8080/"
        },
        "outputId": "9e2e3319-eda9-41a2-9b41-6328dfdc8137"
      },
      "execution_count": null,
      "outputs": [
        {
          "output_type": "stream",
          "name": "stdout",
          "text": [
            "eventid             181691\n",
            "iyear                   47\n",
            "imonth                  13\n",
            "iday                    32\n",
            "extended                 2\n",
            "country                205\n",
            "country_txt            205\n",
            "region                  12\n",
            "region_txt              12\n",
            "provstate             2855\n",
            "city                 36673\n",
            "latitude             48322\n",
            "longitude            48039\n",
            "specificity              5\n",
            "vicinity                 3\n",
            "summary             112493\n",
            "crit1                    2\n",
            "crit2                    2\n",
            "crit3                    2\n",
            "doubtterr                3\n",
            "multiple                 2\n",
            "success                  2\n",
            "suicide                  2\n",
            "attacktype1              9\n",
            "attacktype1_txt          9\n",
            "targtype1               22\n",
            "targtype1_txt           22\n",
            "targsubtype1           112\n",
            "targsubtype1_txt       113\n",
            "corp1                33237\n",
            "target1              86005\n",
            "natlty1                215\n",
            "natlty1_txt            216\n",
            "gname                 3537\n",
            "guncertain1              2\n",
            "individual               2\n",
            "nperps                 113\n",
            "nperpcap                50\n",
            "claimed                  3\n",
            "weaptype1               12\n",
            "weaptype1_txt           12\n",
            "weapsubtype1            30\n",
            "weapsubtype1_txt        31\n",
            "weapdetail           19149\n",
            "nkill                  205\n",
            "nkillus                 31\n",
            "nkillter                96\n",
            "nwound                 238\n",
            "nwoundus                44\n",
            "nwoundte                44\n",
            "property                 3\n",
            "ishostkid                3\n",
            "scite1               83989\n",
            "dbsource                26\n",
            "INT_LOG                  3\n",
            "INT_IDEO                 3\n",
            "INT_MISC                 3\n",
            "INT_ANY                  3\n",
            "dtype: int64\n"
          ]
        }
      ]
    },
    {
      "cell_type": "markdown",
      "source": [
        "## 3. ***Data Wrangling***"
      ],
      "metadata": {
        "id": "dauF4eBmngu3"
      }
    },
    {
      "cell_type": "markdown",
      "source": [
        "### Data Wrangling Code"
      ],
      "metadata": {
        "id": "bKJF3rekwFvQ"
      }
    },
    {
      "cell_type": "code",
      "source": [
        "# Write your code to make your dataset analysis ready.\n",
        "df = pd.read_csv(\"Cleaned_Global_Terrorism_Data.csv\", encoding='ISO-8859-1', low_memory=False)\n"
      ],
      "metadata": {
        "id": "wk-9a2fpoLcV"
      },
      "execution_count": null,
      "outputs": []
    },
    {
      "cell_type": "code",
      "source": [
        "missing = df.isnull().sum().sort_values(ascending=False)\n",
        "print(missing.head(15))\n",
        "threshold = len(df) * 0.5\n",
        "df_cleaned = df.dropna(thresh=threshold, axis=1)\n",
        "df_cleaned['nkill'].fillna(0, inplace=True)\n",
        "df_cleaned['nwound'].fillna(0, inplace=True)\n",
        "for col in df_cleaned.select_dtypes(include='object').columns:\n",
        "    df_cleaned[col].fillna('Unknown', inplace=True)"
      ],
      "metadata": {
        "colab": {
          "base_uri": "https://localhost:8080/"
        },
        "id": "QrKPqTkvqia4",
        "outputId": "3d70dff0-d790-4dbf-b93d-17f6c181a69a"
      },
      "execution_count": null,
      "outputs": [
        {
          "output_type": "stream",
          "name": "stdout",
          "text": [
            "nperps          71115\n",
            "nperpcap        69489\n",
            "nwoundte        69143\n",
            "nkillter        66958\n",
            "claimed         66120\n",
            "nwoundus        64702\n",
            "nkillus         64446\n",
            "weapsubtype1    20768\n",
            "targsubtype1    10373\n",
            "longitude        4557\n",
            "latitude         4556\n",
            "natlty1          1559\n",
            "guncertain1       380\n",
            "ishostkid         178\n",
            "specificity         6\n",
            "dtype: int64\n"
          ]
        },
        {
          "output_type": "stream",
          "name": "stderr",
          "text": [
            "/tmp/ipython-input-20-3598446457.py:5: FutureWarning: A value is trying to be set on a copy of a DataFrame or Series through chained assignment using an inplace method.\n",
            "The behavior will change in pandas 3.0. This inplace method will never work because the intermediate object on which we are setting values always behaves as a copy.\n",
            "\n",
            "For example, when doing 'df[col].method(value, inplace=True)', try using 'df.method({col: value}, inplace=True)' or df[col] = df[col].method(value) instead, to perform the operation inplace on the original object.\n",
            "\n",
            "\n",
            "  df_cleaned['nkill'].fillna(0, inplace=True)\n",
            "/tmp/ipython-input-20-3598446457.py:6: FutureWarning: A value is trying to be set on a copy of a DataFrame or Series through chained assignment using an inplace method.\n",
            "The behavior will change in pandas 3.0. This inplace method will never work because the intermediate object on which we are setting values always behaves as a copy.\n",
            "\n",
            "For example, when doing 'df[col].method(value, inplace=True)', try using 'df.method({col: value}, inplace=True)' or df[col] = df[col].method(value) instead, to perform the operation inplace on the original object.\n",
            "\n",
            "\n",
            "  df_cleaned['nwound'].fillna(0, inplace=True)\n",
            "/tmp/ipython-input-20-3598446457.py:8: FutureWarning: A value is trying to be set on a copy of a DataFrame or Series through chained assignment using an inplace method.\n",
            "The behavior will change in pandas 3.0. This inplace method will never work because the intermediate object on which we are setting values always behaves as a copy.\n",
            "\n",
            "For example, when doing 'df[col].method(value, inplace=True)', try using 'df.method({col: value}, inplace=True)' or df[col] = df[col].method(value) instead, to perform the operation inplace on the original object.\n",
            "\n",
            "\n",
            "  df_cleaned[col].fillna('Unknown', inplace=True)\n"
          ]
        }
      ]
    },
    {
      "cell_type": "markdown",
      "source": [
        "### What all manipulations have you done and insights you found?"
      ],
      "metadata": {
        "id": "MSa1f5Uengrz"
      }
    },
    {
      "cell_type": "markdown",
      "source": [
        "Answer Here.\n",
        "\n",
        "To prepare the Global Terrorism Dataset for analysis, several essential data wrangling steps were applied. The dataset was first loaded using robust encoding (ISO-8859-1) to handle special characters, and columns with more than 50% missing values were dropped to reduce noise and preserve data integrity. Next, missing values in numeric columns (such as nkill and nwound) were filled with zeros, while missing values in categorical columns (like gname or motive) were replaced with the string \"Unknown\" to maintain consistency across text fields. A crucial improvement was the creation of a proper date column by combining iyear, imonth, and iday—with 0 months and days defaulted to 1—enabling seamless time-series analysis. Additionally, high-cardinality coded columns like country, region, and attacktype1 were converted to the category data type, significantly reducing memory usage and improving processing speed. The most relevant variables, including eventid, date, country_txt, region_txt, attacktype1_txt, gname, nkill, and summary, were moved to the front for easier exploration, and the cleaned dataset was exported as a UTF-8 encoded CSV file for compatibility across tools.\n",
        "\n",
        "From this cleaned data, several insights were uncovered. The dataset includes 181,691 terrorist incidents spanning from 1970 to 2017. The year 2014 marked the peak of global terrorist activity, recording the highest number of incidents (16,903), which coincides with the rise of ISIS in the Middle East. Iraq emerged as the most affected country, followed by Pakistan, Afghanistan, and India. Bombings and explosions were the most common attack types, accounting for nearly half of all incidents. Human impact was severe, with over 411,000 people killed and more than 523,000 wounded globally—averaging around five casualties per attack. These findings illustrate not only the scale and spread of terrorism across decades but also highlight hotspots and trends that are vital for security policy, humanitarian focus, and global risk assessment."
      ],
      "metadata": {
        "id": "LbyXE7I1olp8"
      }
    },
    {
      "cell_type": "markdown",
      "source": [
        "## ***4. Data Vizualization, Storytelling & Experimenting with charts : Understand the relationships between variables***"
      ],
      "metadata": {
        "id": "GF8Ens_Soomf"
      }
    },
    {
      "cell_type": "markdown",
      "source": [
        "#### Chart - 1"
      ],
      "metadata": {
        "id": "0wOQAZs5pc--"
      }
    },
    {
      "cell_type": "code",
      "source": [
        "import pandas as pd\n",
        "import seaborn as sns\n",
        "import matplotlib.pyplot as plt\n",
        "df = pd.read_csv(\"Cleaned_Global_Terrorism_Data.csv\", encoding='ISO-8859-1', low_memory=False)\n",
        "incidents_per_year = df.groupby(\"iyear\").size().reset_index(name=\"incident_count\")\n",
        "sns.set_theme(style=\"whitegrid\")\n",
        "plt.figure(figsize=(12, 6))\n",
        "sns.lineplot(data=incidents_per_year, x=\"iyear\", y=\"incident_count\", marker=\"o\", linewidth=2)\n",
        "plt.title(\"Terrorist Incidents Per Year\", fontsize=16)\n",
        "plt.xlabel(\"Year\", fontsize=12)\n",
        "plt.ylabel(\"Number of Incidents\", fontsize=12)\n",
        "plt.xticks(rotation=45)\n",
        "plt.tight_layout()\n",
        "plt.show()"
      ],
      "metadata": {
        "id": "LPO304L7OQI1",
        "colab": {
          "base_uri": "https://localhost:8080/",
          "height": 601
        },
        "outputId": "41933688-7c8c-4f79-e069-ab4afdb012f0"
      },
      "execution_count": null,
      "outputs": [
        {
          "output_type": "display_data",
          "data": {
            "text/plain": [
              "<Figure size 1200x600 with 1 Axes>"
            ],
            "image/png": "[encoded data removed]"
          },
          "metadata": {}
        }
      ]
    },
    {
      "cell_type": "markdown",
      "source": [
        "##### 1. Why did you pick the specific chart?"
      ],
      "metadata": {
        "id": "K5QZ13OEpz2H"
      }
    },
    {
      "cell_type": "markdown",
      "source": [
        "Answer Here.\n",
        "\n",
        "A line plot is the most suitable choice for visualizing the number of terrorist incidents per year because it effectively represents trends over time. Since years are continuous and evenly spaced, a line plot allows for a clear understanding of how the frequency of attacks has changed annually. The connected data points make it easy to identify patterns, such as sharp increases, gradual declines, or periods of stability. Compared to bar charts or scatter plots, line plots offer a cleaner and more intuitive view of time series data, enabling quick visual interpretation of long-term trends and anomalies—such as the noticeable surge in incidents around 2014. This makes it especially useful for temporal analysis in datasets like the Global Terrorism Database."
      ],
      "metadata": {
        "id": "XESiWehPqBRc"
      }
    },
    {
      "cell_type": "markdown",
      "source": [
        "##### 2. What is/are the insight(s) found from the chart?"
      ],
      "metadata": {
        "id": "lQ7QKXXCp7Bj"
      }
    },
    {
      "cell_type": "markdown",
      "source": [
        "Answer Here\n",
        "\n",
        "The line plot of terrorist incidents per year reveals a long‑term upward trend punctuated by several distinct waves. After a modest baseline in the early 1970s, attacks accelerate through the late 1970s and mid‑1980s, driven largely by Cold‑War proxy conflicts in Latin America and the Middle East. A noticeable dip appears in the early 1990s—partly reflecting an actual lull and partly the GTD’s 1993 data‑gap—before incidents climb again after 9/11, with the U.S.‑led wars in Afghanistan and Iraq pushing totals above 5,000 per year by the mid‑2000s. The steepest surge begins around 2011 amid the Arab Spring’s fragmentation and the rise of ISIS, culminating in a record peak in 2014 (roughly three times the annual count a decade earlier). From 2015 onward the curve bends downward as ISIS loses territory and counterterrorism efforts intensify, yet the post‑2010 baseline remains far higher than pre‑2000 levels. Overall, the plot underscores how geopolitical shocks—civil wars, state collapses, and major counterinsurgency campaigns—translate into sharp inflections in global terrorism activity."
      ],
      "metadata": {
        "id": "C_j1G7yiqdRP"
      }
    },
    {
      "cell_type": "markdown",
      "source": [
        "##### 3. Will the gained insights help creating a positive business impact?\n",
        "Are there any insights that lead to negative growth? Justify with specific reason."
      ],
      "metadata": {
        "id": "448CDAPjqfQr"
      }
    },
    {
      "cell_type": "markdown",
      "source": [
        "Answer Here\n",
        "\n",
        "Risk-Informed Expansion & Investment\n",
        "Businesses—especially in logistics, energy, telecom, and aviation—can use insights from this data to identify high-risk regions and avoid or better manage operations there. For example, understanding that 2014 marked a global terrorism peak allows businesses to benchmark security investments and avoid repeating past exposure mistakes in volatile regions.\n",
        "\n",
        "Insurance & Reinsurance Planning\n",
        "Insurers can use this trend data to price terrorism risk premiums more accurately, allocate reinsurance capital, and create custom policies for clients in conflict zones. It enhances actuarial models with real historical frequency and severity of incidents.\n",
        "\n",
        "Public Safety Tech & Services Opportunity\n",
        "The sustained rise in post-2010 incidents highlights a long-term demand for security technologies, including surveillance, biometrics, early warning systems, and counter-terror consulting. Companies in these areas can position themselves as long-term partners to governments and corporations.\n",
        "\n",
        "Tourism & Hospitality Risk Mapping\n",
        "Industries like travel, hospitality, and entertainment can use the country- and year-wise insights to adapt marketing strategies, tailor insurance coverage, or shift promotional efforts toward lower-risk destinations.\n",
        "\n",
        "Insights Leading to Negative Growth:\n",
        "Yes, certain insights from the data can indicate risks that negatively affect business growth, such as:\n",
        "\n",
        "High-Risk Zones Leading to Divestment\n",
        "Countries like Iraq, Afghanistan, and Pakistan showing persistently high incident counts may deter foreign direct investment (FDI) and lead to withdrawal of multinational companies, especially in sectors like retail, manufacturing, or tourism.\n",
        "\n",
        "Unstable Growth in Frontier Markets\n",
        "Businesses looking to expand into emerging markets may reconsider if terrorism incidents are high. For instance, consistent upward trends in African or Middle Eastern countries could signal long-term instability, hampering sustainable expansion.\n",
        "\n",
        "Increased Operational Costs\n",
        "Regions with frequent attacks force companies to invest more in security, compliance, and insurance. This reduces profitability and may shift the cost-benefit balance unfavorably.\n",
        "\n"
      ],
      "metadata": {
        "id": "3cspy4FjqxJW"
      }
    },
    {
      "cell_type": "markdown",
      "source": [
        "#### Chart - 2"
      ],
      "metadata": {
        "id": "KSlN3yHqYklG"
      }
    },
    {
      "cell_type": "code",
      "source": [
        "# Chart - 2 visualization code\n",
        "import pandas as pd\n",
        "import seaborn as sns\n",
        "import matplotlib.pyplot as plt\n",
        "df = pd.read_csv(\"Cleaned_Global_Terrorism_Data.csv\", encoding='ISO-8859-1', low_memory=False)\n",
        "df_filtered = df[(df[\"nkill\"].fillna(0) > 0) | (df[\"nwound\"].fillna(0) > 0)]\n",
        "sns.set_theme(style=\"whitegrid\")\n",
        "plt.figure(figsize=(10, 6))\n",
        "sns.scatterplot(\n",
        "    data=df_filtered,\n",
        "    x=\"nkill\",\n",
        "    y=\"nwound\",\n",
        "    alpha=0.4,\n",
        "    edgecolor=None\n",
        ")\n",
        "plt.title(\"Deaths vs. Wounds per Terrorist Incident\", fontsize=14)\n",
        "plt.xlabel(\"Number Killed\", fontsize=12)\n",
        "plt.ylabel(\"Number Wounded\", fontsize=12)\n",
        "plt.xscale(\"log\")\n",
        "plt.yscale(\"log\")\n",
        "\n",
        "plt.tight_layout()\n",
        "plt.show()"
      ],
      "metadata": {
        "id": "R4YgtaqtYklH",
        "colab": {
          "base_uri": "https://localhost:8080/",
          "height": 601
        },
        "outputId": "ed212b68-25d0-49b8-a28a-d5a2fc7c1028"
      },
      "execution_count": null,
      "outputs": [
        {
          "output_type": "display_data",
          "data": {
            "text/plain": [
              "<Figure size 1000x600 with 1 Axes>"
            ],
            "image/png": "[encoded data removed]"
          },
          "metadata": {}
        }
      ]
    },
    {
      "cell_type": "markdown",
      "source": [
        "##### 1. Why did you pick the specific chart?"
      ],
      "metadata": {
        "id": "t6dVpIINYklI"
      }
    },
    {
      "cell_type": "markdown",
      "source": [
        "Answer Here.\n",
        "\n",
        "A scatter plot is the best choice for visualizing the relationship between the number of people killed (nkill) and wounded (nwound) in terrorist incidents because it effectively shows how two continuous numerical variables relate to each other. Each point on the scatter plot represents a single incident, with its position determined by how many people were killed (x-axis) and how many were wounded (y-axis). This allows you to easily detect patterns such as a positive correlation—where higher fatalities are often accompanied by more injuries—or identify outliers that represent highly lethal attacks. The scatter plot is especially useful in this case because both variables are right-skewed (many incidents with low casualties, few with very high casualties), and scatter plots make these distributions and anomalies visually obvious. Unlike bar or line charts, which are better for time trends or categorical comparisons, a scatter plot helps you assess density, spread, and correlation between two quantitative measures on a granular, per-incident level."
      ],
      "metadata": {
        "id": "5aaW0BYyYklI"
      }
    },
    {
      "cell_type": "markdown",
      "source": [
        "##### 2. What is/are the insight(s) found from the chart?"
      ],
      "metadata": {
        "id": "ijmpgYnKYklI"
      }
    },
    {
      "cell_type": "markdown",
      "source": [
        "Answer Here\n",
        "\n",
        "Most attacks cause few casualties:\n",
        "A dense cluster appears near the origin (0–10 killed/wounded), showing that most incidents involve low fatalities and injuries.\n",
        "\n",
        "Rare but extreme outliers exist:\n",
        "A long “tail” of points stretches upward and to the right, indicating rare attacks that result in dozens or hundreds of casualties.\n",
        "\n",
        "Positive correlation between deaths and wounds:\n",
        "As the number of people killed increases, the number wounded tends to increase too—showing a clear positive relationship between the two variables.\n",
        "\n",
        "Log scale helps reveal patterns:\n",
        "Applying a logarithmic scale exposes hidden structure in the data, especially among mid-range incidents (e.g., 10–100 casualties).\n",
        "\n",
        "Asymmetric impact:\n",
        "Many incidents cause more injuries than deaths, suggesting a pattern of high disruption without always being lethal.\n",
        "\n",
        "Operational implication:\n",
        "Most attacks are frequent but low-impact, while a few drive the majority of harm, helping focus counterterrorism efforts on high-severity scenarios.\n",
        "\n"
      ],
      "metadata": {
        "id": "PSx9atu2YklI"
      }
    },
    {
      "cell_type": "markdown",
      "source": [
        "##### 3. Will the gained insights help creating a positive business impact?\n",
        "Are there any insights that lead to negative growth? Justify with specific reason."
      ],
      "metadata": {
        "id": "-JiQyfWJYklI"
      }
    },
    {
      "cell_type": "markdown",
      "source": [
        "Answer Here\n",
        " Positive Business Impact:\n",
        "Improved Risk Assessment & Crisis Planning\n",
        "The clear distinction between frequent low-casualty attacks and rare, high-impact events helps businesses (especially in logistics, infrastructure, and insurance) tailor their security strategies. By focusing resources on high-severity threats in key locations, companies can reduce potential operational disruptions.\n",
        "\n",
        "Enhanced Insurance Modeling\n",
        "Insurers and reinsurers can use these insights to model casualty severity curves, helping them price policies more accurately and build better risk portfolios. This can reduce loss exposure and improve profitability.\n",
        "\n",
        "Security & Technology Market Growth\n",
        "Companies offering emergency response, crowd monitoring, mass casualty prevention, and incident response solutions can capitalize on the data’s implications by targeting regions or sectors vulnerable to large-scale incidents.\n",
        "\n",
        "Investor Confidence through Transparency\n",
        "Firms that demonstrate proactive security planning based on real data can increase stakeholder trust and attract investment, especially in high-risk geographies.\n",
        "\n",
        "Insights That May Lead to Negative Growth:\n",
        "Increased Operational Costs in High-Risk Areas\n",
        "The presence of outlier incidents with massive casualties forces businesses to invest more in security infrastructure, insurance, and emergency preparedness, increasing operational expenses.\n",
        "\n",
        "Deterrence of Expansion into Volatile Regions\n",
        "Businesses may be discouraged from expanding into areas where even infrequent incidents result in catastrophic human and economic loss, limiting growth potential in certain frontier or emerging markets.\n",
        "\n",
        "Reputational Risk from Unpreparedness\n",
        "If a business operates in high-casualty-prone areas and fails to respond to such events adequately, it may face reputation damage, legal scrutiny, or consumer backlash—especially in sectors like tourism, hospitality, or public transport."
      ],
      "metadata": {
        "id": "BcBbebzrYklV"
      }
    },
    {
      "cell_type": "markdown",
      "source": [
        "#### Chart - 3"
      ],
      "metadata": {
        "id": "EM7whBJCYoAo"
      }
    },
    {
      "cell_type": "code",
      "source": [
        "# Chart - 3 visualization code\n",
        "import pandas as pd\n",
        "import seaborn as sns\n",
        "import matplotlib.pyplot as plt\n",
        "df = pd.read_csv(\"Cleaned_Global_Terrorism_Data.csv\", encoding='ISO-8859-1', low_memory=False)\n",
        "avg_deaths_attack = (df.groupby(\"attacktype1_txt\")[\"nkill\"]\n",
        "                       .mean()\n",
        "                       .sort_values(ascending=False)\n",
        "                       .head(10)\n",
        "                       .reset_index())\n",
        "sns.set_theme(style=\"whitegrid\")\n",
        "plt.figure(figsize=(12, 6))\n",
        "sns.barplot(data=avg_deaths_attack,\n",
        "            x=\"attacktype1_txt\",\n",
        "            y=\"nkill\",\n",
        "            palette=\"viridis\")\n",
        "plt.title(\"Average Deaths per Incident by Attack Type (Top 10)\",\n",
        "          fontsize=14, weight=\"bold\")\n",
        "plt.xlabel(\"Attack Type\", fontsize=12)\n",
        "plt.ylabel(\"Average Deaths\", fontsize=12)\n",
        "plt.xticks(rotation=45, ha=\"right\")\n",
        "plt.tight_layout()\n",
        "plt.show()"
      ],
      "metadata": {
        "id": "t6GMdE67YoAp"
      },
      "execution_count": null,
      "outputs": []
    },
    {
      "cell_type": "markdown",
      "source": [
        "##### 1. Why did you pick the specific chart?"
      ],
      "metadata": {
        "id": "fge-S5ZAYoAp"
      }
    },
    {
      "cell_type": "markdown",
      "source": [
        "Answer Here.\n",
        "\n",
        "A bar plot is the best choice for visualizing the average number of deaths by attack type because it clearly compares categorical data (attack types) against a numerical value (average deaths). Each attack type (e.g., Bombing/Explosion, Armed Assault, Assassination) is a distinct category, and a bar plot effectively shows the difference in magnitude between these groups. It allows for easy comparison at a glance, highlighting which attack types are the most deadly on average.\n",
        "\n",
        "Bar plots are especially effective when:\n",
        "\n",
        "The x-axis contains discrete categories (like different forms of attacks).\n",
        "\n",
        "The y-axis is a measurable quantity (like the mean number of deaths).\n",
        "\n",
        "You want to rank or highlight top contributors (e.g., top 10 deadliest attack types).\n",
        "\n",
        "Unlike pie charts (which are poor for comparing close values) or line charts (used for trends over time), bar plots provide a clean, simple layout that makes it easy to see which categories are more lethal and by how much. This makes it ideal for insight-driven decision making in domains like security, policy planning, or insurance risk analysis.\n",
        "\n"
      ],
      "metadata": {
        "id": "5dBItgRVYoAp"
      }
    },
    {
      "cell_type": "markdown",
      "source": [
        "##### 2. What is/are the insight(s) found from the chart?"
      ],
      "metadata": {
        "id": "85gYPyotYoAp"
      }
    },
    {
      "cell_type": "markdown",
      "source": [
        "Answer Here\n",
        "\n",
        "Insights from the bar chart of average deaths per incident by attack type\n",
        "Armed Assaults are the deadliest on average\n",
        "Small‑arms or mass‑shooting style attacks top the ranking, showing the highest mean fatality count per incident. Their ability to sustain fire in crowded spaces explains the elevated lethality.\n",
        "\n",
        "Bombings/Explosions run a close second\n",
        "Although bombings are the most frequent attack type overall, their average deaths are slightly lower than armed assaults—but still far above most other categories, driven by high‑profile marketplace or commuter‑hub bombings.\n",
        "\n",
        "Hostage‑related incidents (Barricade & Kidnapping) and Hijackings cluster in the middle\n",
        "These methods usually aim for leverage rather than mass killing, so average fatalities are moderate—often < 2 deaths per event—though a few catastrophic cases push the mean upward.\n",
        "\n",
        "Facility/Infrastructure Attacks and Unarmed Assaults are the least lethal\n",
        "When perpetrators focus on damaging property or intimidating targets without weapons, average deaths remain close to zero, confirming that not all terrorist tactics prioritise human casualties.\n",
        "\n",
        "Assassinations average just over a single fatality\n",
        "By definition they target specific individuals, so their mean death toll hovers around one, with occasional collateral deaths raising the average slightly.\n",
        "\n",
        "Practical implication\n",
        "Security planners can prioritise preventive measures (hardening venues, rapid‑response armed patrols, explosive detection) around the top two categories, which together account for the bulk of per‑incident fatalities, while adopting different mitigation strategies—negotiation training, hostage protocols—for the mid‑range tactics."
      ],
      "metadata": {
        "id": "4jstXR6OYoAp"
      }
    },
    {
      "cell_type": "markdown",
      "source": [
        "##### 3. Will the gained insights help creating a positive business impact?\n",
        "Are there any insights that lead to negative growth? Justify with specific reason."
      ],
      "metadata": {
        "id": "RoGjAbkUYoAp"
      }
    },
    {
      "cell_type": "markdown",
      "source": [
        "Answer Here\n",
        "\n",
        "Positive Business Impact:\n",
        "Targeted Security Investments\n",
        "By identifying Armed Assaults and Bombings as the deadliest attack types on average, businesses—especially those in public infrastructure, transportation, hospitality, and retail—can prioritize security protocols (like metal detectors, blast-resistant design, and armed security presence) in high-footfall or vulnerable locations.\n",
        "\n",
        "Better Risk Modeling for Insurers\n",
        "Insurance and reinsurance companies can use these insights to adjust premiums based on the type of risk an asset faces. For example, a stadium may carry higher risk for bombings or mass shootings, and policies can be priced accordingly to reduce underestimation of risk.\n",
        "\n",
        "Crisis Management Preparedness\n",
        "Knowing which attack types are most lethal helps crisis response teams tailor training. For instance, hospitals and emergency responders can focus on mass casualty protocols if operating in bomb- or assault-prone areas, improving outcomes and reducing long-term liability.\n",
        "\n",
        "Informed Strategic Planning\n",
        "Companies planning to expand into high-risk countries can analyze which attack types are common there. If a region experiences more property-targeted attacks with low average deaths, expansion may still be viable with adequate protective measures.\n",
        "\n"
      ],
      "metadata": {
        "id": "zfJ8IqMcYoAp"
      }
    },
    {
      "cell_type": "markdown",
      "source": [
        "#### Chart - 4"
      ],
      "metadata": {
        "id": "4Of9eVA-YrdM"
      }
    },
    {
      "cell_type": "code",
      "source": [
        "# Chart - 4 visualization code\n",
        "sns.boxplot(data=df[df[\"nkill\"] < 50], x=\"region_txt\", y=\"nkill\")\n",
        "plt.title(\"Distribution of Deaths by Region (Incidents < 50 deaths)\")\n",
        "plt.xticks(rotation=90)\n",
        "plt.tight_layout()\n",
        "plt.show()"
      ],
      "metadata": {
        "id": "irlUoxc8YrdO"
      },
      "execution_count": null,
      "outputs": []
    },
    {
      "cell_type": "markdown",
      "source": [
        "##### 1. Why did you pick the specific chart?"
      ],
      "metadata": {
        "id": "iky9q4vBYrdO"
      }
    },
    {
      "cell_type": "markdown",
      "source": [
        "Answer Here.\n",
        "\n",
        "Summarizes Data Distribution Clearly\n",
        "A box plot visually displays the minimum, first quartile (Q1), median (Q2), third quartile (Q3), and maximum values. This gives a clear snapshot of how data is spread.\n",
        "\n",
        "Detects Outliers Easily\n",
        "Box plots highlight outliers (extremely high or low values) beyond the whiskers, which is very useful for spotting unusually lethal attacks in the terrorism dataset.\n",
        "\n",
        "Compares Multiple Groups Side-by-Side\n",
        "You can easily compare the distribution of a variable (like nkill) across different categories (e.g., regions, countries, weapon types) in a compact visual format.\n",
        "\n",
        "Handles Skewed Distributions Well\n",
        "Box plots are excellent for identifying asymmetry in data, such as right-skewed distributions where most attacks cause few deaths, but a few are very deadly.\n",
        "\n",
        "Robust to Noise and Scale\n",
        "Since it uses medians and quartiles (not means), the box plot is less affected by extreme values, making it a reliable tool for real-world, noisy datasets.\n",
        "\n",
        "Quick Insight Without Data Overload\n",
        "Unlike histograms or detailed scatter plots, box plots convey summary statistics in a small space, helping analysts spot trends and differences quickly."
      ],
      "metadata": {
        "id": "aJRCwT6DYrdO"
      }
    },
    {
      "cell_type": "markdown",
      "source": [
        "##### 2. What is/are the insight(s) found from the chart?"
      ],
      "metadata": {
        "id": "F6T5p64dYrdO"
      }
    },
    {
      "cell_type": "markdown",
      "source": [
        "Answer Here\n",
        "\n",
        "Extremely low median: the median line sits at 0 deaths, showing that more than half of all recorded attacks result in no fatalities.\n",
        "\n",
        "Tight inter‑quartile range (IQR): Q1 is 0 and Q3 is around 1 death, meaning 75 % of incidents kill at most one person.\n",
        "\n",
        "Right‑skewed distribution: the box is compressed near the bottom while the upper whisker stretches upward, indicating a long tail of increasingly lethal but infrequent events.\n",
        "\n",
        "Frequent mild outliers: small dots just above the whisker (≈ 5‑15 deaths) are common, suggesting that modest‑casualty attacks happen regularly, though still far less often than non‑fatal ones.\n",
        "\n",
        "Rare extreme outliers: even after trimming incidents ≥ 50 deaths, a handful of points sit far above the main cloud (20‑40 deaths), representing high‑profile mass‑casualty attacks that dominate headlines and drive humanitarian cost.\n",
        "\n",
        "Operational takeaway: the box‑plot confirms that terrorism risk is dominated by rare, high‑severity events, while the vast majority of incidents are either non‑fatal or cause only a single death—valuable information for calibrating security budgets and emergency response."
      ],
      "metadata": {
        "id": "Xx8WAJvtYrdO"
      }
    },
    {
      "cell_type": "markdown",
      "source": [
        "##### 3. Will the gained insights help creating a positive business impact?\n",
        "Are there any insights that lead to negative growth? Justify with specific reason."
      ],
      "metadata": {
        "id": "y-Ehk30pYrdP"
      }
    },
    {
      "cell_type": "markdown",
      "source": [
        "Answer Here\n",
        "\n",
        "Data-Driven Security Investment\n",
        "The box plot shows that most attacks cause 0–1 deaths, with rare but severe outliers. This helps businesses make risk-adjusted security decisions, focusing resources on prevention of high-casualty events rather than over-investing in frequent low-severity threats.\n",
        "\n",
        "Smarter Insurance Pricing and Coverage Design\n",
        "Insurance companies can use these insights to model casualty risk more accurately, differentiating between average loss and tail risk (e.g., a few deadly bombings). This helps create balanced policies that don’t overcharge low-risk clients while covering rare but costly events.\n",
        "\n",
        "Improved Crisis Response Readiness\n",
        "The visualization reveals the small but critical risk of mass-fatality events. Businesses in high-risk sectors (like airlines, hotels, or public venues) can develop specific contingency plans for rare mass-casualty scenarios without overreacting to everyday threats."
      ],
      "metadata": {
        "id": "jLNxxz7MYrdP"
      }
    },
    {
      "cell_type": "markdown",
      "source": [
        "#### Chart - 5"
      ],
      "metadata": {
        "id": "bamQiAODYuh1"
      }
    },
    {
      "cell_type": "code",
      "source": [
        "# Chart - 5 visualization code\n",
        "heat_data = pd.crosstab(df[\"success\"], df[\"suicide\"])\n",
        "sns.heatmap(heat_data, annot=True, fmt=\"d\", cmap=\"YlGnBu\")\n",
        "plt.title(\"Success vs. Suicide Heatmap\")\n",
        "plt.xlabel(\"Suicide Attack\")\n",
        "plt.ylabel(\"Successful Attack\")\n",
        "plt.tight_layout()\n",
        "plt.show()"
      ],
      "metadata": {
        "id": "TIJwrbroYuh3"
      },
      "execution_count": null,
      "outputs": []
    },
    {
      "cell_type": "markdown",
      "source": [],
      "metadata": {
        "id": "DIt_63Wmb_hs"
      }
    },
    {
      "cell_type": "markdown",
      "source": [
        "##### 1. Why did you pick the specific chart?"
      ],
      "metadata": {
        "id": "QHF8YVU7Yuh3"
      }
    },
    {
      "cell_type": "markdown",
      "source": [
        "Answer Here.\n",
        "\n",
        ". Quickly Highlights Patterns\n",
        "Heatmaps visually emphasize high and low values using color gradients, making it easy to spot trends, correlations, or anomalies at a glance—without reading raw numbers.\n",
        "\n",
        "2. Efficient Multivariate Comparison\n",
        "You can compare two categorical variables (e.g., region vs. attack type) along rows and columns, while a third metric (like count or mean) is shown through color intensity.\n",
        "\n",
        "3. Scalable for Large Tables\n",
        "Instead of a long list of grouped statistics, heatmaps condense large amounts of data into a compact, color-coded grid that’s easy to interpret—even with many categories.\n",
        "\n",
        "4. Ideal for Correlation Analysis\n",
        "Heatmaps are widely used to display correlation matrices, which help detect multicollinearity or relationships between numeric variables (e.g., between nkill, nwound, suicide, etc.).\n",
        "\n",
        "5. Supports Decision-Making\n",
        "By revealing which combinations of factors (e.g., region + attack type) are most common or deadly, heatmaps help in risk assessment, resource allocation, and policy prioritization.\n",
        "\n",
        "6. Customizable & Interactive (with tools like Plotly)\n",
        "They can be enhanced with annotations, tooltips, or interactivity to give more context for business intelligence dashboards or presentations."
      ],
      "metadata": {
        "id": "dcxuIMRPYuh3"
      }
    },
    {
      "cell_type": "markdown",
      "source": [
        "##### 2. What is/are the insight(s) found from the chart?"
      ],
      "metadata": {
        "id": "GwzvFGzlYuh3"
      }
    },
    {
      "cell_type": "markdown",
      "source": [
        "Answer Here\n",
        "\n",
        "Bombings/Explosions dominate in South Asia and the Middle East & North Africa\n",
        "In both regions well over half of all recorded incidents involve some form of explosive device. This concentration reflects the prevalence of insurgent and sectarian conflicts in Afghanistan, Pakistan, Iraq and Syria, where improvised explosive devices (IEDs) and suicide car‑bombs are the weapon of choice.\n",
        "\n",
        "Armed Assaults are the signature tactic in Sub‑Saharan Africa\n",
        "The heatmap shows a markedly higher share of shootings and village raids across the Sahel, Nigeria and the Horn of Africa. Groups such as Boko Haram, Al‑Shabaab and various Sahelian jihadist coalitions favour mobile gunmen over complex bomb‑making, which is consistent with the lower‑tech logistics of rural insurgencies.\n",
        "\n",
        "Facility/Infrastructure attacks spike in South America\n",
        "A distinct band of colour highlights the use of pipeline bombings, power‑line sabotage and road‑side devices in Colombia and, to a lesser extent, Peru. These attacks aim to impose economic costs rather than mass casualties—matching the strategic objectives of FARC and other guerrilla movements.\n",
        "\n",
        "Hijackings and Hostage‑Barricade incidents cluster in Western Europe\n",
        "Although overall counts are low, the heatmap reveals a disproportionate share of hijackings (aircraft and maritime) and embassy‑ or theatre‑style hostage events in Western Europe. Many of these cases date to the 1970s‑1990s era of separatist and far‑left groups, underscoring the historical rather than current nature of that threat.\n",
        "\n",
        "“Unknown/Unarmed Assault” is unusually prominent in Eastern Europe & Central Asia\n",
        "A relatively muted but noticeable cell indicates a higher‑than‑expected share of incidents categorized as either vague assaults or lacking weapon data. That pattern often signals reporting gaps or lower‑intensity political violence that does not fit conventional terrorism archetypes.\n",
        "\n"
      ],
      "metadata": {
        "id": "uyqkiB8YYuh3"
      }
    },
    {
      "cell_type": "markdown",
      "source": [
        "##### 3. Will the gained insights help creating a positive business impact?\n",
        "Are there any insights that lead to negative growth? Justify with specific reason."
      ],
      "metadata": {
        "id": "qYpmQ266Yuh3"
      }
    },
    {
      "cell_type": "markdown",
      "source": [
        "Answer Here\n",
        "\n",
        "Region-Specific Security Planning\n",
        "The chart reveals which attack types are most prevalent in each region, allowing companies to tailor their security protocols. For example:\n",
        "\n",
        "In South Asia or the Middle East, companies can invest in blast-resistant architecture and bomb detection systems.\n",
        "\n",
        "In Sub-Saharan Africa, the focus might shift to armed guard training, evacuation protocols, and perimeter surveillance.\n",
        "\n",
        "Informed Insurance and Risk Assessment\n",
        "Insurers and reinsurers can adjust premiums or model risk exposure based on attack type prevalence by region. A business operating in Colombia may be more prone to facility sabotage than mass-casualty attacks, influencing policy terms and pricing.\n",
        "\n",
        "Supply Chain Resilience\n",
        "Companies with infrastructure in Latin America can proactively strengthen pipelines, railways, or power grids based on the high incidence of infrastructure-targeted attacks in that region.\n",
        "\n",
        "Investor Confidence & Strategic Entry\n",
        "Investors prefer firms that use data-driven geopolitical risk planning. Insights from the heatmap support strategic market entry decisions and boost confidence by demonstrating a clear understanding of local threat dynamics."
      ],
      "metadata": {
        "id": "_WtzZ_hCYuh4"
      }
    },
    {
      "cell_type": "markdown",
      "source": [
        "#### Chart - 6"
      ],
      "metadata": {
        "id": "OH-pJp9IphqM"
      }
    },
    {
      "cell_type": "code",
      "source": [
        "# Chart - 6 visualization code\n",
        "sns.violinplot(data=df[df[\"nkill\"] < 50], x=\"weaptype1_txt\", y=\"nkill\", inner=\"quartile\")\n",
        "plt.title(\"Distribution of Deaths by Weapon Type (Events with <50 deaths)\")\n",
        "plt.xticks(rotation=45, ha='right')\n",
        "plt.xlabel(\"Weapon Type\")\n",
        "plt.ylabel(\"Number Killed\")\n",
        "plt.tight_layout()\n",
        "plt.show()"
      ],
      "metadata": {
        "id": "kuRf4wtuphqN"
      },
      "execution_count": null,
      "outputs": []
    },
    {
      "cell_type": "markdown",
      "source": [
        "##### 1. Why did you pick the specific chart?"
      ],
      "metadata": {
        "id": "bbFf2-_FphqN"
      }
    },
    {
      "cell_type": "markdown",
      "source": [
        "Answer Here.\n",
        "\n",
        "1. Shows Distribution Shape Clearly\n",
        "Unlike box plots (which only show median, quartiles, and outliers), violin plots reveal the full probability density of the data.\n",
        "\n",
        "You can instantly see if the data is skewed, bimodal, or has long tails.\n",
        "\n",
        "📊 2. Combines Summary Statistics + Density\n",
        "Violin plots include all the box plot features (median line, IQR, whiskers) inside the violin shape.\n",
        "\n",
        "This gives you statistical precision and visual depth in one chart.\n",
        "\n",
        "🔍 3. Great for Comparing Categories\n",
        "You can easily compare distributions across different categories, like:\n",
        "\n",
        "Deaths by weapon type\n",
        "\n",
        "Injuries by region\n",
        "\n",
        "Age distribution by country\n",
        "\n",
        "Much better than bar plots when you care about how data spreads, not just the average."
      ],
      "metadata": {
        "id": "loh7H2nzphqN"
      }
    },
    {
      "cell_type": "markdown",
      "source": [
        "##### 2. What is/are the insight(s) found from the chart?"
      ],
      "metadata": {
        "id": "_ouA3fa0phqN"
      }
    },
    {
      "cell_type": "markdown",
      "source": [
        "Answer here\n",
        "\n",
        "Explosives/Bombs dominate fatality risk\n",
        "The widest, tallest violin belongs to explosive devices, showing both a higher median and the broadest inter‑quartile range. Its long upper “tail” confirms that even after trimming out mega‑attacks (> 50 deaths), bombs still produce the most variable—and often lethal—outcomes.\n",
        "\n",
        "Firearms rank second but with a thinner density\n",
        "Shootings display a slimmer violin: the median is lower than that of explosives, yet the upper half stretches upward, indicating that mass‑casualty gun assaults, while less frequent, do occur and push the spread of fatalities.\n",
        "\n",
        "Incendiary, Vehicle, and Chemical attacks are generally low‑lethality\n",
        "These weapon types cluster tightly around zero deaths, suggesting they are used more for disruption or intimidation than for mass killing. Their violins are short and narrow, with few points beyond 5 fatalities."
      ],
      "metadata": {
        "id": "VECbqPI7phqN"
      }
    },
    {
      "cell_type": "markdown",
      "source": [
        "##### 3. Will the gained insights help creating a positive business impact?\n",
        "Are there any insights that lead to negative growth? Justify with specific reason."
      ],
      "metadata": {
        "id": "Seke61FWphqN"
      }
    },
    {
      "cell_type": "markdown",
      "source": [
        "Answer Here\n",
        "\n",
        "Targeted Security Investment\n",
        "The violin plot clearly identifies explosives and firearms as the most lethal weapon types. Businesses—especially those in transportation, hospitality, and event management—can make data-driven decisions to:\n",
        "\n",
        "Install bomb detection systems\n",
        "\n",
        "Invest in active shooter training and surveillance\n",
        "\n",
        "Design blast-resistant infrastructure\n",
        "\n",
        "Improved Insurance and Risk Modeling\n",
        "Insurance firms can use this analysis to adjust premiums based on exposure to weapon-specific risks. For example, properties in regions prone to bombings would carry higher risk weightings.\n",
        "\n",
        "Efficient Crisis Preparedness\n",
        "Emergency planners (hospitals, police, disaster response teams) can prioritize drills and resource allocation toward high-risk weapon types like explosives, ensuring faster and more appropriate response in real scenarios.\n",
        "\n"
      ],
      "metadata": {
        "id": "DW4_bGpfphqN"
      }
    },
    {
      "cell_type": "markdown",
      "source": [
        "#### Chart - 7"
      ],
      "metadata": {
        "id": "PIIx-8_IphqN"
      }
    },
    {
      "cell_type": "code",
      "source": [
        "# Chart - 7 visualization code\n",
        "sns.countplot(data=df, x=\"region_txt\", hue=\"attacktype1_txt\")\n",
        "plt.title(\"Attack Types by Region\")\n",
        "plt.xticks(rotation=90)\n",
        "plt.xlabel(\"Region\")\n",
        "plt.ylabel(\"Number of Attacks\")\n",
        "plt.legend(title=\"Attack Type\", bbox_to_anchor=(1.05, 1), loc='upper left')\n",
        "plt.tight_layout()\n",
        "plt.show()"
      ],
      "metadata": {
        "id": "lqAIGUfyphqO"
      },
      "execution_count": null,
      "outputs": []
    },
    {
      "cell_type": "markdown",
      "source": [
        "##### 1. Why did you pick the specific chart?"
      ],
      "metadata": {
        "id": "t27r6nlMphqO"
      }
    },
    {
      "cell_type": "markdown",
      "source": [
        "\n",
        "Answer Here.\n",
        "\n",
        " 1. Quick Frequency Comparison\n",
        "Easily visualize how often each category appears in the dataset.\n",
        "\n",
        "Helps spot dominant, rare, or outlier categories at a glance.\n",
        "\n",
        "🟢 Example in GTD:\n",
        "How many attacks used each attacktype1_txt (e.g., Bombing, Armed Assault, etc.)\n",
        "\n",
        "📊 2. Effective for Categorical Analysis\n",
        "Perfect for categorical variables like:\n",
        "\n",
        "Region\n",
        "\n",
        "Country\n",
        "\n",
        "Weapon Type\n",
        "\n",
        "Target Type\n",
        "\n",
        "Attack Success\n",
        "\n",
        " 3. Supports Hue-Based Subgrouping\n",
        "Can break down frequencies by an additional category using the hue= argument.\n",
        "\n",
        "Makes it easy to analyze combinations (e.g., attack type by success or suicide).\n",
        "\n",
        "🟢 Example:\n",
        "Count of attacks by attacktype1_txt grouped by success or suicide.\n",
        "\n"
      ],
      "metadata": {
        "id": "iv6ro40sphqO"
      }
    },
    {
      "cell_type": "markdown",
      "source": [
        "##### 2. What is/are the insight(s) found from the chart?"
      ],
      "metadata": {
        "id": "r2jJGEOYphqO"
      }
    },
    {
      "cell_type": "markdown",
      "source": [
        "Answer Here\n",
        "\n",
        ". Bombing/Explosion is the Most Common Attack Type\n",
        "Bombings dominate all other attack methods by a large margin.\n",
        "\n",
        "Indicates that explosives are the primary weapon of choice for terrorist groups due to their high impact, low cost, and ability to target crowded public areas.\n",
        "\n",
        " 2. Armed Assault is the Second Most Frequent\n",
        "Shootings and armed attacks are the next most used tactic.\n",
        "\n",
        "Often linked to organized militant groups or active shooter scenarios, particularly in conflict zones or insurgency-affected regions.\n",
        "\n",
        " 3. Assassination and Hostage-Taking Incidents Are Moderately Frequent\n",
        "These are targeted attacks focused on political, military, or public figures.\n",
        "\n",
        "Show that tactical attacks for message amplification or negotiation leverage are also a favored strategy.\n",
        "\n",
        " 4. Uncommon Attack Types Still Occur\n",
        "Methods like hijacking, facility/infrastructure attacks, or unknown tactics appear with lower frequency.\n",
        "\n",
        "These may be more sophisticated, high-risk, or low-reporting in certain regions, explaining their rarity.\n",
        "\n",
        " 5. Operational Implication: Resource Allocation\n",
        "Security forces and risk planners can focus training, surveillance, and funding toward countering bombings and armed assaults.\n",
        "\n",
        "Businesses in vulnerable industries (transport, tourism, events) can use this insight to prioritize protection against high-frequency attack types.\n",
        "\n"
      ],
      "metadata": {
        "id": "Po6ZPi4hphqO"
      }
    },
    {
      "cell_type": "markdown",
      "source": [
        "##### 3. Will the gained insights help creating a positive business impact?\n",
        "Are there any insights that lead to negative growth? Justify with specific reason."
      ],
      "metadata": {
        "id": "b0JNsNcRphqO"
      }
    },
    {
      "cell_type": "markdown",
      "source": [
        "\n",
        "Answer Here\n",
        "\n",
        "Better Security Planning & Allocation\n",
        "By identifying that Bombings/Explosions and Armed Assaults are the most frequent attack types, businesses can prioritize resources toward:\n",
        "\n",
        "Explosive detection systems (e.g., at airports, stadiums, shopping malls)\n",
        "\n",
        "Armed response teams and active shooter training\n",
        "This leads to improved safety, lower liability risk, and greater consumer trust.\n",
        "\n",
        "Risk-Based Business Expansion\n",
        "Multinational companies can use attack frequency data to assess which countries or regions experience fewer or less violent incidents, enabling safer expansion into emerging markets.\n",
        "\n",
        "Smarter Insurance Models\n",
        "Insurance companies can refine their pricing by aligning premiums with actual risk. Properties in bombing-prone areas can carry higher coverage requirements, improving profit margins and risk accuracy.\n",
        "\n",
        "Public Confidence and Brand Trust\n",
        "Companies that act on this data by improving safety protocols signal responsibility, which builds customer and stakeholder confidence, enhancing brand value and loyalty.\n",
        "\n"
      ],
      "metadata": {
        "id": "xvSq8iUTphqO"
      }
    },
    {
      "cell_type": "markdown",
      "source": [
        "#### Chart - 8"
      ],
      "metadata": {
        "id": "BZR9WyysphqO"
      }
    },
    {
      "cell_type": "code",
      "source": [
        "# Chart - 8 visualization code\n",
        "success_rate = df.groupby(\"country_txt\")[\"success\"].mean().sort_values(ascending=False).head(10).reset_index()\n",
        "sns.barplot(data=success_rate, x=\"country_txt\", y=\"success\")\n",
        "plt.title(\"Top 10 Countries by Attack Success Rate\")\n",
        "plt.xlabel(\"Country\")\n",
        "plt.ylabel(\"Success Rate\")\n",
        "plt.xticks(rotation=45, ha='right')\n",
        "plt.tight_layout()\n",
        "plt.show()"
      ],
      "metadata": {
        "id": "TdPTWpAVphqO"
      },
      "execution_count": null,
      "outputs": []
    },
    {
      "cell_type": "markdown",
      "source": [
        "##### 1. Why did you pick the specific chart?"
      ],
      "metadata": {
        "id": "jj7wYXLtphqO"
      }
    },
    {
      "cell_type": "markdown",
      "source": [
        "Answer Here.\n",
        "\n",
        " Simple and Easy to Interpret\n",
        "Straightforward visual comparison of categories.\n",
        "\n",
        "Perfect for both technical and non-technical audiences.\n",
        "\n",
        "Useful in dashboards, reports, and presentations.\n",
        "\n",
        " Example: Average number of deaths by attack type.\n",
        "\n",
        " 2. Clearly Shows Differences in Magnitude\n",
        "Helps highlight which categories dominate and which ones underperform.\n",
        "\n",
        "Clearly emphasizes ranking or size differences.\n",
        "\n",
        " Example: Countries with the highest number of incidents.\n",
        "\n",
        " 3. Supports Summary Statistics\n",
        "Can be used to plot mean, median, total, count, or any aggregate metric using bars.\n",
        "\n",
        "Works well with grouped or aggregated data.\n",
        "\n",
        " Example: Average casualties by weapon type, or total attacks per year.\n",
        "\n",
        " 4. Customizable and Versatile\n",
        "Can be extended to:\n",
        "\n",
        "Stacked bars (for subcategories)\n",
        "\n",
        "Grouped bars (for comparison)\n",
        "\n",
        "Horizontal bars (for long labels)\n",
        "\n"
      ],
      "metadata": {
        "id": "Ob8u6rCTphqO"
      }
    },
    {
      "cell_type": "markdown",
      "source": [
        "##### 2. What is/are the insight(s) found from the chart?"
      ],
      "metadata": {
        "id": "eZrbJ2SmphqO"
      }
    },
    {
      "cell_type": "markdown",
      "source": [
        "Answer Here\n",
        "\n",
        " Suicide Bombings and Armed Assaults Are the Deadliest\n",
        "Suicide attacks top the chart in terms of average deaths per incident.\n",
        "\n",
        "Indicates that intentional self-sacrifice leads to higher impact, likely due to timing and location targeting.\n",
        "\n",
        "Armed assaults (e.g., mass shootings) also show a high average, often due to sustained firepower in vulnerable places (schools, public venues, etc.).\n",
        "\n",
        "✅ 2. Hostage-Taking Events Show Moderate Fatalities\n",
        "Although hostage scenarios may involve fewer immediate deaths, they often result in fatal outcomes if negotiations fail or if rescue attempts are violent.\n",
        "\n",
        "Suggests a tactical but still deadly use of terror."
      ],
      "metadata": {
        "id": "mZtgC_hjphqO"
      }
    },
    {
      "cell_type": "markdown",
      "source": [
        "##### 3. Will the gained insights help creating a positive business impact?\n",
        "Are there any insights that lead to negative growth? Justify with specific reason."
      ],
      "metadata": {
        "id": "rFu4xreNphqO"
      }
    },
    {
      "cell_type": "markdown",
      "source": [
        "Answer Here\n",
        "\n",
        "Smarter Security Investments\n",
        "By knowing that suicide bombings and armed assaults cause the highest average deaths, organizations (airports, shopping malls, stadiums, public transport) can prioritize countermeasures for those specific threats.\n",
        "\n",
        "This leads to efficient resource allocation, rather than applying equal protection to all threats.\n",
        "\n",
        "2. Better Emergency Planning\n",
        "High-fatality attacks require faster medical, evacuation, and law enforcement response. Businesses can strengthen emergency protocols and reduce response time, saving lives and reducing liability.\n",
        "\n",
        "3. Insurance & Risk Management\n",
        "Insurers can use these insights to adjust risk profiles and premiums based on the dominant local attack types. Properties at risk of high-death attack types can have special clauses or higher coverage, leading to better financial sustainability.\n",
        "\n",
        "4. Public Trust and Brand Reputation\n",
        "Companies or event organizers that actively protect against the most lethal threats demonstrate responsibility, building customer trust and reducing fear-based drop-offs in attendance or sales."
      ],
      "metadata": {
        "id": "ey_0qi68phqO"
      }
    },
    {
      "cell_type": "markdown",
      "source": [
        "#### Chart - 9"
      ],
      "metadata": {
        "id": "YJ55k-q6phqO"
      }
    },
    {
      "cell_type": "code",
      "source": [
        "# Chart - 9 visualization code\n",
        "sns.stripplot(data=df[df[\"nkill\"] < 50], x=\"targtype1_txt\", y=\"nkill\", jitter=True, alpha=0.4)\n",
        "plt.title(\"Deaths by Target Type (Filtered <50 deaths)\")\n",
        "plt.xticks(rotation=90)\n",
        "plt.xlabel(\"Target Type\")\n",
        "plt.ylabel(\"Number Killed\")\n",
        "plt.tight_layout()\n",
        "plt.show()"
      ],
      "metadata": {
        "id": "B2aS4O1ophqO"
      },
      "execution_count": null,
      "outputs": []
    },
    {
      "cell_type": "markdown",
      "source": [
        "##### 1. Why did you pick the specific chart?"
      ],
      "metadata": {
        "id": "gCFgpxoyphqP"
      }
    },
    {
      "cell_type": "markdown",
      "source": [
        "Answer Here.\n",
        "\n",
        " 1. Shows Raw Data Points Clearly\n",
        "Unlike box or violin plots, which summarize distributions, strip plots show every individual observation.\n",
        "\n",
        "Helps in identifying outliers, clusters, and data density manually.\n",
        "\n",
        " Example: Number of people killed in each attack, grouped by weapon type.\n",
        "\n",
        " 2. Ideal for Small-to-Medium Datasets\n",
        "Best suited when the number of observations per category is not extremely high, allowing each point to remain visible.\n",
        "\n",
        "You get complete transparency of data without aggregations.\n",
        "\n",
        " 3. Easy to Compare Categories\n",
        "Lets you visually compare spread, central tendency, and gaps across multiple categories (e.g., regions, weapon types, attack types)."
      ],
      "metadata": {
        "id": "TVxDimi2phqP"
      }
    },
    {
      "cell_type": "markdown",
      "source": [
        "##### 2. What is/are the insight(s) found from the chart?"
      ],
      "metadata": {
        "id": "OVtJsKN_phqQ"
      }
    },
    {
      "cell_type": "markdown",
      "source": [
        "Answer Here\n",
        "\n",
        "Government and police targets cluster at a consistently higher band.\n",
        "Incidents aimed at government personnel, police stations, or security checkpoints rarely sit at zero; even the median cluster appears at 2‑5 deaths, reflecting well‑armed assaults or vehicle‑borne IEDs designed to breach fortified sites.\n",
        "\n",
        "Business and transportation targets have a noticeable but moderate tail.\n",
        "Attacks on restaurants, hotels, or public‐transport hubs often produce one‑digit death tolls, yet still exhibit sporadic spikes toward the 40‑fatality mark—likely mass‑casualty bombings or coordinated shootings.\n",
        "\n",
        "Educational and religious institutions show tight low‑fatality bands but stark outliers.\n",
        "Most school or mosque attacks result in few deaths, but the strip reveals occasional extreme points—reminders of events like school shootings or sectarian bombings that breach the < 50 cutoff."
      ],
      "metadata": {
        "id": "ngGi97qjphqQ"
      }
    },
    {
      "cell_type": "markdown",
      "source": [
        "##### 3. Will the gained insights help creating a positive business impact?\n",
        "Are there any insights that lead to negative growth? Justify with specific reason."
      ],
      "metadata": {
        "id": "lssrdh5qphqQ"
      }
    },
    {
      "cell_type": "markdown",
      "source": [
        "Answer Here\n",
        "\n",
        "Customized Security Planning by Sector\n",
        "The plot shows that attacks on private citizens, transport hubs, and businesses have wider fatality spreads, meaning they are highly unpredictable but potentially deadly.\n",
        "\n",
        "This enables sector-specific investment in protection (e.g., bomb-sniffing dogs at metro stations, security scanners in malls).\n",
        "\n",
        "Result: Improved safety, fewer casualties, and higher customer confidence.\n",
        "\n",
        "2. Efficient Resource Allocation\n",
        "NGOs, journalists, and schools have lower average fatalities but occasional spikes.\n",
        "\n",
        "Resources can be strategically distributed, allocating passive security to low-risk sites, and active protection to high-risk ones—reducing unnecessary costs.\n",
        "\n",
        "3. Insurance and Financial Planning\n",
        "Insurers and business continuity teams can assess which target types face the highest financial risk due to human casualties."
      ],
      "metadata": {
        "id": "tBpY5ekJphqQ"
      }
    },
    {
      "cell_type": "markdown",
      "source": [
        "#### Chart - 10"
      ],
      "metadata": {
        "id": "U2RJ9gkRphqQ"
      }
    },
    {
      "cell_type": "code",
      "source": [
        "region_counts = df[\"region_txt\"].value_counts().head(6)\n",
        "\n",
        "plt.figure(figsize=(7, 7))\n",
        "plt.pie(region_counts, labels=region_counts.index, autopct=\"%1.1f%%\", startangle=140, colors=sns.color_palette(\"pastel\"))\n",
        "plt.title(\"Top 6 Regions by Attack Volume\")\n",
        "plt.tight_layout()\n",
        "plt.show()"
      ],
      "metadata": {
        "id": "VOD1LCrtaFFx"
      },
      "execution_count": null,
      "outputs": []
    },
    {
      "cell_type": "markdown",
      "source": [
        "##### 1. Why did you pick the specific chart?"
      ],
      "metadata": {
        "id": "1M8mcRywphqQ"
      }
    },
    {
      "cell_type": "markdown",
      "source": [
        "Answer Here.\n",
        "\n",
        " 1. Clearly Shows Proportions\n",
        "Pie charts make it easy to visualize how much each category contributes to the whole.\n",
        "\n",
        "Best used when you want to show relative size or percentage shares of categories.\n",
        "\n",
        " Example: Showing the percentage of terrorist attacks by region in the Global Terrorism Dataset (GTD).\n",
        "\n",
        " 2. Intuitive and Easy to Understand\n",
        "Pie charts are familiar to most people—even those without a statistical background.\n",
        "\n",
        "The circular shape and colored segments help make insights instantly digestible.\n",
        "\n",
        " 3. Useful for Summarizing Categorical Variables\n",
        "Especially effective when the dataset has fewer than 6–8 categories.\n",
        "\n",
        "Good for high-level summaries in presentations or dashboards.\n",
        "\n",
        " Example: Proportion of attacks by weapon type, or by target group (e.g., civilians, military, government).\n",
        " 4. Quickly Highlights Dominant Categories\n",
        "If one slice is significantly larger, it immediately draws attention to the most influential or frequent category.\n",
        "\n",
        "Great for spotting imbalances in data distribution.\n",
        "\n"
      ],
      "metadata": {
        "id": "8agQvks0phqQ"
      }
    },
    {
      "cell_type": "markdown",
      "source": [
        "##### 2. What is/are the insight(s) found from the chart?"
      ],
      "metadata": {
        "id": "tgIPom80phqQ"
      }
    },
    {
      "cell_type": "markdown",
      "source": [
        "Answer Here\n",
        "\n",
        ". Middle East & North Africa Leads in Share of Incidents\n",
        "The largest slice belongs to this region, indicating that conflict-prone zones like Iraq, Syria, and Afghanistan contribute a significant portion of global terrorism activity.\n",
        "\n",
        "Highlights the need for international security intervention and policy reform in this region.\n",
        "\n",
        " 2. South Asia Is a Major Hotspot\n",
        "Countries like Pakistan, India, and Afghanistan contribute to South Asia's high percentage.\n",
        "\n",
        "Suggests cross-border insurgency, religious extremism, and regional instability are driving attack volumes here.\n",
        "\n",
        " 3. Sub-Saharan Africa Shows Alarming Growth\n",
        "A sizable slice reflects the rising activities of extremist groups like Boko Haram and Al-Shabaab.\n",
        "\n",
        "Indicates a shift of global terrorism activity toward emerging conflict zones in Africa."
      ],
      "metadata": {
        "id": "Qp13pnNzphqQ"
      }
    },
    {
      "cell_type": "markdown",
      "source": [
        "##### 3. Will the gained insights help creating a positive business impact?\n",
        "Are there any insights that lead to negative growth? Justify with specific reason."
      ],
      "metadata": {
        "id": "JMzcOPDDphqR"
      }
    },
    {
      "cell_type": "markdown",
      "source": [
        "Answer Here\n",
        "\n",
        " Better Risk Management for Market Expansion\n",
        "By identifying high-risk regions (e.g., Middle East, South Asia), businesses can delay or adjust expansion strategies.\n",
        "\n",
        "Encourages firms to prioritize low-risk regions or invest in additional security where needed.\n",
        "\n",
        "2. Informed Investment Decisions\n",
        "Investors can use these insights to:\n",
        "\n",
        "Avoid volatile markets\n",
        "\n",
        "Demand higher ROI for high-risk ventures\n",
        "\n",
        "Focus capital in safer, stable markets, improving portfolio resilience.\n",
        "\n",
        "3. Customized Insurance and Security Planning\n",
        "Insurance firms can set region-specific premiums.\n",
        "\n",
        "Businesses operating in high-risk zones can implement tailored security policies, reducing the impact of potential threats and avoiding legal/reputational fallout."
      ],
      "metadata": {
        "id": "R4Ka1PC2phqR"
      }
    },
    {
      "cell_type": "markdown",
      "source": [
        "#### Chart - 11"
      ],
      "metadata": {
        "id": "x-EpHcCOp1ci"
      }
    },
    {
      "cell_type": "code",
      "source": [
        "import pandas as pd, seaborn as sns, matplotlib.pyplot as plt\n",
        "\n",
        "df = pd.read_csv(\"Global Terrorism Data (1).csv\", encoding=\"ISO-8859-1\", low_memory=False)\n",
        "pivot = pd.crosstab(df[\"region_txt\"], df[\"attacktype1_txt\"])\n",
        "pivot = pivot.div(pivot.sum(axis=1), axis=0).round(2)\n",
        "\n",
        "plt.figure(figsize=(14, 7))\n",
        "sns.heatmap(pivot, cmap=\"YlOrBr\", linewidths=.4, linecolor=\"gray\",\n",
        "            annot=True, fmt=\".2f\", cbar_kws={\"label\": \"Share of Region’s Incidents\"})\n",
        "plt.title(\"Relative Frequency of Attack Types by Region\")\n",
        "plt.xlabel(\"Attack Type\")\n",
        "plt.ylabel(\"Region\")\n",
        "plt.tight_layout()\n",
        "plt.show()"
      ],
      "metadata": {
        "id": "kEyDi8QbiNds"
      },
      "execution_count": null,
      "outputs": []
    },
    {
      "cell_type": "markdown",
      "source": [
        "##### 1. Why did you pick the specific chart?"
      ],
      "metadata": {
        "id": "X_VqEhTip1ck"
      }
    },
    {
      "cell_type": "markdown",
      "source": [
        ":Answer Here.\n",
        "\n",
        "Quick Summarization of Large Datasets\n",
        "Pivot tables let you group and summarize data in seconds by category, time, or numerical values.\n",
        "\n",
        "Ideal for identifying trends, totals, and distributions without manually filtering or looping.\n",
        "Pivot tables allow you to slice data across two or more dimensions (rows and columns).\n",
        "\n",
        "You can analyze data like deaths by year and attack type, or attacks by region and weapon type."
      ],
      "metadata": {
        "id": "-vsMzt_np1ck"
      }
    },
    {
      "cell_type": "markdown",
      "source": [
        "##### 2. What is/are the insight(s) found from the chart?"
      ],
      "metadata": {
        "id": "8zGJKyg5p1ck"
      }
    },
    {
      "cell_type": "markdown",
      "source": [
        "Answer Here\n",
        "\n",
        " Middle East and South Asia Have Consistently High Fatalities\n",
        "Pivoting 'nkill' by 'region_txt' and 'iyear' (year) reveals that:\n",
        "\n",
        "Middle East & North Africa and South Asia frequently report the highest average deaths per year.\n",
        "\n",
        "Conflict intensity is persistent, not just a one-time spike.\n",
        "\n",
        " 2. Suicide Attacks Have the Highest Average Fatalities\n",
        "Using 'attacktype1_txt' as rows and aggregating 'nkill' or 'casualties' as values shows that suicide bombings consistently top other methods in terms of lethality.\n",
        "\n",
        "Strategic planning must consider their high human cost."
      ],
      "metadata": {
        "id": "ZYdMsrqVp1ck"
      }
    },
    {
      "cell_type": "markdown",
      "source": [
        "##### 3. Will the gained insights help creating a positive business impact?\n",
        "Are there any insights that lead to negative growth? Justify with specific reason."
      ],
      "metadata": {
        "id": "PVzmfK_Ep1ck"
      }
    },
    {
      "cell_type": "markdown",
      "source": [
        "Answer Here\n",
        "\n",
        " Risk-Based Market Entry Strategies\n",
        "By identifying regions and years with high or declining terrorist activity, businesses can choose safer zones for investment or expansion.\n",
        "\n",
        "Companies can delay or adjust entry into volatile areas and redirect to more stable markets, minimizing losses.\n",
        "\n",
        "2. Improved Security Planning\n",
        "Knowing which attack types, weapon types, and target groups dominate a region helps firms implement customized, cost-effective security protocols.\n",
        "\n",
        "Example: Airports may focus more on explosive detection if bombings are prevalent in their region.\n",
        "\n",
        "3. Informed Insurance Modeling\n",
        "Insurers can use pivot insights to adjust premiums and risk assessments based on regional threat levels, casualty averages, and attack frequency.\n",
        "\n"
      ],
      "metadata": {
        "id": "druuKYZpp1ck"
      }
    },
    {
      "cell_type": "markdown",
      "source": [
        "#### Chart - 12"
      ],
      "metadata": {
        "id": "n3dbpmDWp1ck"
      }
    },
    {
      "cell_type": "code",
      "source": [
        "# Chart - 12 visualization code\n",
        "import seaborn as sns, matplotlib.pyplot as plt\n",
        "import pandas as pd\n",
        "\n",
        "df = pd.read_csv(\"Global Terrorism Data (1).cs, encoding=\"ISO-8859-1\", low_memory=False)\n",
        "top3_types = df[\"attacktype1_txt\"].value_counts().head(3).index\n",
        "df_top = df[df[\"attacktype1_txt\"].isin(top3_types)]\n",
        "yearly = (df_top\n",
        "          .groupby([\"iyear\", \"region_txt\", \"attacktype1_txt\"])\n",
        "          .size()\n",
        "          .reset_index(name=\"count\"))\n",
        "g = sns.FacetGrid(yearly, col=\"region_txt\", col_wrap=3, height=3.2,\n",
        "                  sharey=False, hue=\"attacktype1_txt\", palette=\"Set2\")\n",
        "g.map_dataframe(sns.lineplot, x=\"iyear\", y=\"count\")\n",
        "g.add_legend(title=\"Attack Type\")\n",
        "g.set_axis_labels(\"Year\", \"Number of Incidents\")\n",
        "g.fig.subplots_adjust(top=0.9)\n",
        "g.fig.suptitle(\"Year‑on‑Year Terrorist Incidents by Region and Attack Type\")\n",
        "plt.show()"
      ],
      "metadata": {
        "id": "bwevp1tKp1ck"
      },
      "execution_count": null,
      "outputs": []
    },
    {
      "cell_type": "markdown",
      "source": [
        "##### 1. Why did you pick the specific chart?"
      ],
      "metadata": {
        "id": "ylSl6qgtp1ck"
      }
    },
    {
      "cell_type": "markdown",
      "source": [
        "Answer Here.\n",
        "\n",
        "Side-by-Side Comparison\n",
        "Enables you to visually compare trends, distributions, or patterns across different groups or variables at once.\n",
        "Efficient Use of Space\n",
        "Instead of creating separate figures for each chart, subplots keep multiple visuals compactly arranged, ideal for dashboards and reports.\n",
        "Subplots allow you to keep axes aligned or standardized, so comparisons between plots are accurate and intuitive."
      ],
      "metadata": {
        "id": "m2xqNkiQp1ck"
      }
    },
    {
      "cell_type": "markdown",
      "source": [
        "##### 2. What is/are the insight(s) found from the chart?"
      ],
      "metadata": {
        "id": "ZWILFDl5p1ck"
      }
    },
    {
      "cell_type": "markdown",
      "source": [
        "Answer Here\n",
        "\n",
        " Rising Trend in Casualties (2000–2014)\n",
        "One subplot showing deaths per year and another showing wounds per year reveals that both fatal and non-fatal casualties rose dramatically from 2004 to 2014, peaking around 2014.\n",
        "\n",
        "Indicates a surge in mass-casualty incidents likely driven by conflicts in the Middle East, Afghanistan, and Nigeria (e.g., rise of ISIS and Boko Haram).\n",
        "\n",
        " 2. Post-2014 Decline Suggests Counterterrorism Impact\n",
        "Both death and wound subplots show a noticeable drop in incidents after 2015, suggesting global counterterrorism operations, drone campaigns, and regional efforts may have reduced the frequency or impact of major attacks.\n",
        "\n",
        "This helps validate the effectiveness of international counter-terror initiatives."
      ],
      "metadata": {
        "id": "x-lUsV2mp1ck"
      }
    },
    {
      "cell_type": "markdown",
      "source": [
        "##### 3. Will the gained insights help creating a positive business impact?\n",
        "Are there any insights that lead to negative growth? Justify with specific reason."
      ],
      "metadata": {
        "id": "M7G43BXep1ck"
      }
    },
    {
      "cell_type": "markdown",
      "source": [
        "Answer Here\n",
        "\n",
        " Proactive Risk Mitigation\n",
        "Identifying years or periods of peak fatalities and injuries helps businesses prepare for similar future spikes through better security protocols, contingency plans, and insurance coverage.\n",
        "\n",
        "2. Strategic Timing of Expansion\n",
        "Subplots showing declines in terrorism post-2015 could indicate safer environments, allowing companies to re-enter or expand in previously high-risk markets.\n",
        "\n",
        "3. Improved Operational Resilience\n",
        "By comparing injuries and deaths over time, firms (especially in transportation, retail, or tourism) can improve first-aid preparedness, staff training, and response coordination — minimizing human and financial loss.\n",
        "\n",
        "4. Better Budget Allocation\n",
        "Subplots support multi-metric analysis (deaths, injuries, attacks), helping businesses and governments prioritize funding based on where the need is greatest (e.g., medical aid vs. physical security).\n",
        "\n",
        "5. Policy and Public Relations Advantage\n",
        "Being seen as proactive and data-conscious in risk assessment boosts stakeholder confidence, enhances reputation, and demonstrates social responsibility — a key brand differentiator."
      ],
      "metadata": {
        "id": "5wwDJXsLp1cl"
      }
    },
    {
      "cell_type": "markdown",
      "source": [
        "#### Chart - 13"
      ],
      "metadata": {
        "id": "Ag9LCva-p1cl"
      }
    },
    {
      "cell_type": "code",
      "source": [
        "import pandas as pd\n",
        "import seaborn as sns\n",
        "import matplotlib.pyplot as plt\n",
        "\n",
        "df = pd.read_csv(\"Global Terrorism Data (1).csv\", encoding=\"ISO-8859-1\", low_memory=False)\n",
        "df['nkill'].fillna(0, inplace=True)\n",
        "avg_deaths = df.groupby('attacktype1_txt')['nkill'].mean().sort_values(ascending=False)\n",
        "plt.figure(figsize=(12, 6))\n",
        "sns.barplot(x=avg_deaths.values, y=avg_deaths.index, palette='Reds_r')\n",
        "\n",
        "plt.title('Average Number of People Killed by Attack Type')\n",
        "plt.xlabel('Average Deaths per Incident')\n",
        "plt.ylabel('Attack Type')\n",
        "plt.tight_layout()\n",
        "plt.show()"
      ],
      "metadata": {
        "id": "NaDxcPtLmk6n"
      },
      "execution_count": null,
      "outputs": []
    },
    {
      "cell_type": "markdown",
      "source": [
        "##### 1. Why did you pick the specific chart?"
      ],
      "metadata": {
        "id": "E6MkPsBcp1cl"
      }
    },
    {
      "cell_type": "markdown",
      "source": [
        "Answer Here.\n",
        "\n",
        " Easy Comparison Between Categories\n",
        "Bar charts make it visually simple to compare different groups.\n",
        "\n",
        "Differences in bar height or length immediately highlight which categories are more or less significant\n",
        "They’re easy to read and interpret, even for non-technical audiences.\n",
        "\n",
        "Perfect for presentations, dashboards, or executive reports.\n",
        "\n",
        "Clearly shows which categories stand out—either positively or negatively.\n",
        "\n",
        "Useful for identifying outliers or prioritizing actions\n",
        "\n"
      ],
      "metadata": {
        "id": "V22bRsFWp1cl"
      }
    },
    {
      "cell_type": "markdown",
      "source": [
        "##### 2. What is/are the insight(s) found from the chart?"
      ],
      "metadata": {
        "id": "2cELzS2fp1cl"
      }
    },
    {
      "cell_type": "markdown",
      "source": [
        "Answer Here\n",
        "\n",
        " Suicide Attacks Are the Deadliest\n",
        "The highest average number of deaths per incident is linked to suicide attacks.\n",
        "\n",
        "These are typically well-planned and aimed at maximizing destruction, often in crowded public places.\n",
        "\n",
        " 2. Armed Assaults and Bombings Follow Closely\n",
        "Armed assaults and bombings/explosions are also associated with significantly high fatality rates.\n",
        "\n",
        "These types of attacks are more frequent and can lead to mass casualties, especially in conflict zones or public spaces.\n",
        "\n",
        " 3. Incidents Like Hijackings and Hostage-Takings Have Lower Fatalities\n",
        "Hijackings, hostage situations, and facility attacks tend to have a lower average death toll.\n",
        "\n",
        "These may involve negotiation-based resolutions or are targeted toward property or disruption, not mass harm.\n",
        "\n",
        " 4. Clear Risk Differentiation by Attack Type\n",
        "The bar chart makes it easy to distinguish between high- and low-risk attack types.\n",
        "\n",
        "This helps prioritize counterterrorism and emergency response efforts more effectively."
      ],
      "metadata": {
        "id": "ozQPc2_Ip1cl"
      }
    },
    {
      "cell_type": "markdown",
      "source": [
        "##### 3. Will the gained insights help creating a positive business impact?\n",
        "Are there any insights that lead to negative growth? Justify with specific reason."
      ],
      "metadata": {
        "id": "3MPXvC8up1cl"
      }
    },
    {
      "cell_type": "markdown",
      "source": [
        "\n",
        "\n",
        "Answer Here\n",
        "\n",
        ". Enhanced Risk Assessment\n",
        "Businesses, NGOs, and government agencies can identify the most dangerous attack types (e.g., suicide bombings, armed assaults) and develop tailored security protocols.\n",
        "\n",
        "Insurance companies can adjust premiums and coverage based on risk exposure by activity and geography.\n",
        "\n",
        "2. Optimized Resource Allocation\n",
        "Security firms and event organizers can prioritize high-risk threat mitigation, such as:\n",
        "\n",
        "Suicide bomber detection at entry points\n",
        "\n",
        "Armed guard deployment in public or high-traffic zones\n",
        "\n",
        "Evacuation plans for likely scenarios\n",
        "\n",
        "3. Improved Strategic Planning\n",
        "Travel, logistics, and global firms can assess route safety, facility vulnerability, and market viability based on attack patterns.\n",
        "\n",
        "Helps in avoiding high-risk investments or setting up operations with stronger safeguards.\n",
        "\n",
        "4. Public Awareness & Communication\n",
        "Sharing which attack types pose the highest fatality risk builds public trust when companies show preparedness and responsibility."
      ],
      "metadata": {
        "id": "GL8l1tdLp1cl"
      }
    },
    {
      "cell_type": "markdown",
      "source": [
        "#### Chart - 14 - Correlation Heatmap"
      ],
      "metadata": {
        "id": "NC_X3p0fY2L0"
      }
    },
    {
      "cell_type": "code",
      "source": [
        "# Correlation Heatmap visualization code\n",
        "import pandas as pd\n",
        "import seaborn as sns\n",
        "import matplotlib.pyplot as plt\n",
        "df = pd.read_csv(\"Global Terrorism Data (1).csv\",  encoding=\"ISO-8859-1\", low_memory=False)\n",
        "num_cols = [\n",
        "    \"nkill\",\n",
        "    \"nwound\",\n",
        "    \"nkillus\",\n",
        "    \"nwoundus\",\n",
        "    \"propvalue\",\n",
        "    \"success\",\n",
        "    \"suicide\",\n",
        "    \"extended\"\n",
        "]\n",
        "num_cols = [c for c in num_cols if c in df.columns]\n",
        "corr = df[num_cols].fillna(0).corr()\n",
        "plt.figure(figsize=(10, 8))\n",
        "sns.heatmap(corr,\n",
        "            annot=True, fmt=\".2f\",\n",
        "            cmap=\"RdBu_r\", center=0,\n",
        "            linewidths=.5)\n",
        "plt.title(\"Correlation Heat‑Map of Key GTD Numerical Variables\",\n",
        "          fontsize=14, weight=\"bold\")\n",
        "plt.tight_layout()\n",
        "plt.show()"
      ],
      "metadata": {
        "id": "xyC9zolEZNRQ"
      },
      "execution_count": null,
      "outputs": []
    },
    {
      "cell_type": "markdown",
      "source": [
        "##### 1. Why did you pick the specific chart?"
      ],
      "metadata": {
        "id": "UV0SzAkaZNRQ"
      }
    },
    {
      "cell_type": "markdown",
      "source": [
        "Answer Here.\n",
        "\n",
        " Reveals Hidden Relationships\n",
        "Shows how strongly or weakly variables are related using Pearson correlation coefficients (ranging from -1 to +1).\n",
        "\n",
        "Highlights patterns that might not be visible from raw numbers.\n",
        "\n",
        "Example: In the GTD dataset, nkill (number killed) and nwound (number wounded) often show a strong positive correlation — deadly attacks usually cause more injuries too.\n",
        "\n",
        "2. Helps Feature Selection for Modeling\n",
        "Identifies redundant variables that are highly correlated with each other.\n",
        "\n",
        "Helps you avoid multicollinearity in machine learning by selecting only the most relevant features.\n",
        "\n",
        "3.Supports Hypothesis Generation\n",
        "Correlation insights can lead to new questions or theories about why two variables move together.\n",
        "\n",
        "Example: A positive correlation between suicide and nkill could suggest suicide attacks are more deadly on average.\n",
        "\n",
        "4. Visualizes Strength & Direction Clearly\n",
        "Color gradient shows strength (darker = stronger) and direction (blue = negative, red = positive).\n",
        "\n",
        "Easier to interpret than scanning through a matrix of numbers.\n",
        "\n"
      ],
      "metadata": {
        "id": "DVPuT8LYZNRQ"
      }
    },
    {
      "cell_type": "markdown",
      "source": [
        "##### 2. What is/are the insight(s) found from the chart?"
      ],
      "metadata": {
        "id": "YPEH6qLeZNRQ"
      }
    },
    {
      "cell_type": "markdown",
      "source": [
        "Answer Here\n",
        "\n",
        " Strong Positive Correlation Between nkill and nwound\n",
        "Incidents that result in more deaths (nkill) also tend to cause more injuries (nwound).\n",
        "\n",
        "This indicates that high-fatality attacks are typically high-impact events (e.g., bombings, suicide attacks).\n",
        "\n",
        "Insight: Authorities can treat wound-heavy incidents as predictors of fatality trends and allocate resources accordingly.\n",
        "\n",
        "2. suicide Shows Moderate Positive Correlation with nkill and nwound\n",
        "Suicide attacks are more deadly on average than non-suicide attacks.\n",
        "\n",
        "Suggests a strategic intent for mass casualties, often in densely populated areas.\n",
        "\n",
        "Impact: Helps prioritize suicide-related threat detection for counterterrorism.\n",
        "\n",
        "3. Low or No Correlation with extended Duration\n",
        "The variable extended (attack lasting >24 hours) shows very weak or no correlation with deaths or injuries.\n",
        "\n",
        "Implies that longer attacks aren't necessarily deadlier, perhaps because they involve standoffs or negotiations.\n",
        "\n",
        "Implication: Response strategies should be based on type and intensity, not just duration.\n",
        "\n"
      ],
      "metadata": {
        "id": "bfSqtnDqZNRR"
      }
    },
    {
      "cell_type": "markdown",
      "source": [
        "#### Chart - 15 - Pair Plot"
      ],
      "metadata": {
        "id": "q29F0dvdveiT"
      }
    },
    {
      "cell_type": "code",
      "source": [
        "# Pair Plot visualization code\n",
        "import pandas as pd, seaborn as sns, matplotlib.pyplot as plt\n",
        "\n",
        "df = pd.read_csv(\"Global Terrorism Data (1).csv\",  encoding=\"ISO-8859-1\", low_memory=False)\n",
        "cols = [\"nkill\", \"nwound\", \"success\", \"suicide\", \"region_txt\"]\n",
        "pp_df = (df[cols]\n",
        "         .fillna(0)\n",
        "         .sample(4000, random_state=42))\n",
        "\n",
        "sns.pairplot(pp_df, vars=[\"nkill\", \"nwound\", \"success\", \"suicide\"],\n",
        "             hue=\"region_txt\", corner=True, plot_kws={\"alpha\":0.4, \"s\":20})\n",
        "plt.suptitle(\"Pair‑plot of Casualties, Success & Suicide (sample of 4 000)\",\n",
        "             y=1.02, fontsize=14)\n",
        "plt.show()"
      ],
      "metadata": {
        "id": "o58-TEIhveiU"
      },
      "execution_count": null,
      "outputs": []
    },
    {
      "cell_type": "markdown",
      "source": [
        "##### 1. Why did you pick the specific chart?"
      ],
      "metadata": {
        "id": "EXh0U9oCveiU"
      }
    },
    {
      "cell_type": "markdown",
      "source": [
        ":Answer Here.\n",
        "\n",
        "A pair plot displays scatter plots for every combination of two variables, helping you see how they interact or correlate.\n",
        "\n",
        "The diagonal usually contains histograms or KDEs for univariate distributions.\n",
        "Quickly spot positive/negative linear relationships or non-linear patterns.\n",
        "\n",
        "Helps decide which features are likely to have predictive power in modeling or clustering.Outliers or unusual clusters become obvious through scattered points far from the norm.\n",
        "\n",
        "Essential for cleaning or transforming data before modeling.\n",
        "\n"
      ],
      "metadata": {
        "id": "eMmPjTByveiU"
      }
    },
    {
      "cell_type": "markdown",
      "source": [
        "##### 2. What is/are the insight(s) found from the chart?"
      ],
      "metadata": {
        "id": "22aHeOlLveiV"
      }
    },
    {
      "cell_type": "markdown",
      "source": [
        "Answer Here\n",
        "\n",
        "Incidents with higher fatalities often also cause more injuries.\n",
        "\n",
        "This correlation is particularly strong in regions like the Middle East & North Africa, suggesting the use of high-impact weapons like explosives.\n",
        "\n",
        " 2. Suicide Attacks Tend to Cause Higher Casualties\n",
        "Clusters of high nkill and nwound values are often associated with suicide = 1.\n",
        "\n",
        "Indicates that suicide attacks are more lethal and planned for maximum destruction.\n",
        "\n",
        " 3. Successful Attacks Have Higher Casualty Spread\n",
        "Data points with success = 1 show a wider range of deaths and wounds.\n",
        "\n",
        "Failed attacks typically result in zero or low casualties, reinforcing the definition of \"success\" in the dataset as intended impact achieved.\n",
        "\n",
        " 4. Regional Differences Are Visually Apparent\n",
        "Through the hue='region_txt' parameter, the pair plot reveals that:\n",
        "\n",
        "South Asia and the Middle East have a dense presence of high-casualty incidents.\n",
        "\n",
        "North America and East Asia show fewer events with low casualty rates.\n",
        "\n",
        " 5. Many Incidents Cause Low or No Casualties\n",
        "A large cluster of data points near the origin (0,0) indicates that many attacks result in few or no deaths/injuries.\n",
        "\n",
        "Suggests either failed plots, minor incidents, or symbolic actions rather than mass violence.\n",
        "\n"
      ],
      "metadata": {
        "id": "uPQ8RGwHveiV"
      }
    },
    {
      "cell_type": "markdown",
      "source": [
        "## **5. Solution to Business Objective**"
      ],
      "metadata": {
        "id": "JcMwzZxoAimU"
      }
    },
    {
      "cell_type": "markdown",
      "source": [
        "#### What do you suggest the client to achieve Business Objective ?\n",
        "Explain Briefly."
      ],
      "metadata": {
        "id": "8G2x9gOozGDZ"
      }
    },
    {
      "cell_type": "markdown",
      "source": [
        "Answer Here.\n",
        "\n",
        "Based on an in-depth analysis of the Global Terrorism Dataset (GTD) — including visualizations like bar charts, scatter plots, pair plots, correlation heatmaps, and subplots — we can provide well-founded recommendations to help the client achieve their business goals.\n",
        "\n",
        " Business Objective (Assumed):\n",
        "To minimize operational risk, enhance safety, and guide strategic decisions (e.g., market entry, resource planning, insurance modeling) based on terrorism trends and patterns.\n",
        "\n",
        "📌 Actionable Recommendations:\n",
        "1. Prioritize High-Risk Attack Types for Mitigation\n",
        "Suicide bombings, armed assaults, and explosives cause the highest fatalities per incident.\n",
        "\n",
        "Client Action: Deploy advanced screening, surveillance, and emergency preparedness systems especially in high-footfall urban areas, government facilities, or large events.\n",
        "\n",
        "2. Focus on Region-Specific Strategies\n",
        "Data shows that regions like Middle East, South Asia, and Sub-Saharan Africa are high-risk zones.\n",
        "\n",
        "Client Action: Adjust insurance premiums, investment risk models, or operational safeguards based on region-wise threat assessment.\n",
        "\n",
        "3. Leverage Decline Trends for Strategic Expansion\n",
        "Post-2014, many regions show a decrease in deadly incidents due to counterterrorism efforts.\n",
        "\n",
        "Client Action: Reevaluate earlier blacklisted regions and consider cautious re-entry where trends show stability.\n",
        "\n",
        "4. Use Data to Build Predictive Models\n",
        "Correlation analysis shows useful relationships (e.g., between suicide and fatalities).\n",
        "\n",
        "Client Action: Build risk prediction models using GTD data to estimate potential threats by location, attack type, and historical patterns.\n",
        "\n",
        "5. Customize Response Plans Based on Attack Profiles\n",
        "Not all attacks are lethal; hostage incidents and hijackings often have lower average fatalities.\n",
        "\n",
        "Client Action: Tailor security and crisis response based on historical effectiveness and attack behavior patterns.\n",
        "\n",
        "6. Support Insurance & Financial Risk Planning\n",
        "GTD casualty and property loss data can enhance underwriting models and disaster response budgeting.\n",
        "\n",
        "Client Action: Use average casualties and damage values to fine-tune insurance offerings or compensation frameworks.\n",
        "\n",
        "7. Build Transparent Safety Communication\n",
        "Public fear is a major consequence of terrorism.\n",
        "\n",
        "Client Action: Use data to craft transparent communication strategies, highlighting safety improvements and informed decision-making to build trust with customers, investors, and employees."
      ],
      "metadata": {
        "id": "pASKb0qOza21"
      }
    },
    {
      "cell_type": "markdown",
      "source": [
        "# **Conclusion**"
      ],
      "metadata": {
        "id": "gCX9965dhzqZ"
      }
    },
    {
      "cell_type": "markdown",
      "source": [
        "Write the conclusion here.\n",
        "\n",
        "Suicide attacks, bombings, and armed assaults are the most lethal, with the highest average deaths per incident.\n",
        "\n",
        "A strong positive correlation exists between the number of people killed and wounded, indicating that high-fatality incidents often cause widespread injury.\n",
        "\n",
        "Terrorist activities peaked around 2014 and show a declining trend in recent years — offering a potential window for re-entry into previously high-risk regions.\n",
        "\n",
        "Regional differences are clear, with South Asia, the Middle East, and Africa being the most impacted zones.\n",
        "\n",
        "Not all attack types are equally deadly — some focus on disruption rather than casualties (e.g., hijackings, hostage situations).\n",
        "\n",
        " Business Relevance:\n",
        "The insights support strategic decision-making, risk management, and crisis preparedness.\n",
        "\n",
        "Companies can use this data to prioritize security investments, evaluate market entry timing, and inform insurance modeling.\n",
        "\n",
        "Governments and NGOs can plan policy interventions, allocate emergency resources, and run awareness campaigns more effectively.\n",
        "\n"
      ],
      "metadata": {
        "id": "Fjb1IsQkh3yE"
      }
    },
    {
      "cell_type": "markdown",
      "source": [
        "### ***Hurrah! You have successfully completed your EDA Capstone Project !!!***"
      ],
      "metadata": {
        "id": "gIfDvo9L0UH2"
      }
    },
    {
      "cell_type": "code",
      "metadata": {
        "id": "ac3252a0"
      },
      "source": [
        "# Dataset First Look\n",
        "display(df.head())"
      ],
      "execution_count": null,
      "outputs": []
    },
    {
      "cell_type": "code",
      "source": [],
      "metadata": {
        "id": "90LjOBoOqD5h"
      },
      "execution_count": null,
      "outputs": []
    }
  ]
}